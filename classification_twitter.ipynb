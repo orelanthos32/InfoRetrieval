{
 "cells": [
  {
   "cell_type": "code",
   "execution_count": 1,
   "metadata": {
    "_cell_guid": "b1076dfc-b9ad-4769-8c92-a6c4dae69d19",
    "_uuid": "8f2839f25d086af736a60e9eeb907d3b93b6e0e5",
    "execution": {
     "iopub.execute_input": "2021-04-04T18:35:21.385993Z",
     "iopub.status.busy": "2021-04-04T18:35:21.385171Z",
     "iopub.status.idle": "2021-04-04T18:35:21.415019Z",
     "shell.execute_reply": "2021-04-04T18:35:21.414069Z"
    },
    "papermill": {
     "duration": 0.052021,
     "end_time": "2021-04-04T18:35:21.415311",
     "exception": false,
     "start_time": "2021-04-04T18:35:21.363290",
     "status": "completed"
    },
    "tags": []
   },
   "outputs": [
    {
     "name": "stdout",
     "output_type": "stream",
     "text": [
      "/kaggle/input/stockticker10tweetsdataset-23221/stockticker10-tweets(dataset 23-2-21).csv\n",
      "/kaggle/input/stockticker10tweets5321/stockticker10-tweets(5-3-21).csv\n",
      "/kaggle/input/stockticker10tweets/stockticker10-tweets.csv\n",
      "/kaggle/input/main-reddit-manual-gme1616872068/MAIN_Reddit_Manual - gme1616872068.csv\n",
      "/kaggle/input/stockticker10tweets5321-label/stockticker10-tweets(5-3-21) label.csv\n"
     ]
    }
   ],
   "source": [
    "# This Python 3 environment comes with many helpful analytics libraries installed\n",
    "# It is defined by the kaggle/python Docker image: https://github.com/kaggle/docker-python\n",
    "# For example, here's several helpful packages to load\n",
    "\n",
    "import numpy as np # linear algebra\n",
    "import pandas as pd # data processing, CSV file I/O (e.g. pd.read_csv)\n",
    "\n",
    "# Input data files are available in the read-only \"../input/\" directory\n",
    "# For example, running this (by clicking run or pressing Shift+Enter) will list all files under the input directory\n",
    "\n",
    "import os\n",
    "for dirname, _, filenames in os.walk('/kaggle/input'):\n",
    "    for filename in filenames:\n",
    "        print(os.path.join(dirname, filename))\n",
    "\n",
    "# You can write up to 20GB to the current directory (/kaggle/working/) that gets preserved as output when you create a version using \"Save & Run All\" \n",
    "# You can also write temporary files to /kaggle/temp/, but they won't be saved outside of the current session"
   ]
  },
  {
   "cell_type": "code",
   "execution_count": 2,
   "metadata": {
    "execution": {
     "iopub.execute_input": "2021-04-04T18:35:21.455625Z",
     "iopub.status.busy": "2021-04-04T18:35:21.454889Z",
     "iopub.status.idle": "2021-04-04T18:37:03.671886Z",
     "shell.execute_reply": "2021-04-04T18:37:03.671223Z"
    },
    "papermill": {
     "duration": 102.239755,
     "end_time": "2021-04-04T18:37:03.672043",
     "exception": false,
     "start_time": "2021-04-04T18:35:21.432288",
     "status": "completed"
    },
    "tags": []
   },
   "outputs": [
    {
     "name": "stdout",
     "output_type": "stream",
     "text": [
      "[nltk_data] Error loading stopwords: <urlopen error [Errno -3]\n",
      "[nltk_data]     Temporary failure in name resolution>\n",
      "[nltk_data] Error loading wordnet: <urlopen error [Errno -3] Temporary\n",
      "[nltk_data]     failure in name resolution>\n",
      "[nltk_data] Error loading punkt: <urlopen error [Errno -3] Temporary\n",
      "[nltk_data]     failure in name resolution>\n",
      "[nltk_data] Error loading averaged_perceptron_tagger: <urlopen error\n",
      "[nltk_data]     [Errno -3] Temporary failure in name resolution>\n",
      "[nltk_data] Error loading vader_lexicon: <urlopen error [Errno -3]\n",
      "[nltk_data]     Temporary failure in name resolution>\n"
     ]
    },
    {
     "name": "stderr",
     "output_type": "stream",
     "text": [
      "/opt/conda/lib/python3.7/site-packages/nltk/twitter/__init__.py:20: UserWarning: The twython library has not been installed. Some functionality from the twitter package will not be available.\n",
      "  warnings.warn(\"The twython library has not been installed. \"\n"
     ]
    }
   ],
   "source": [
    "# Plotting/Visualization\n",
    "import seaborn as sns\n",
    "import matplotlib.pyplot as plt\n",
    "\n",
    "import csv\n",
    "\n",
    "from textblob import TextBlob\n",
    "import re\n",
    "\n",
    "import nltk\n",
    "# nltk.download()\n",
    "nltk.download('stopwords')\n",
    "nltk.download('wordnet')\n",
    "nltk.download('punkt')\n",
    "nltk.download('averaged_perceptron_tagger') \n",
    "nltk.download('vader_lexicon')\n",
    "\n",
    "from nltk.tokenize import word_tokenize\n",
    "from nltk.tokenize import RegexpTokenizer\n",
    "from nltk.corpus import stopwords\n",
    "stop = stopwords.words('english')\n",
    "from nltk.stem import WordNetLemmatizer,PorterStemmer\n",
    "from nltk.sentiment.vader import SentimentIntensityAnalyzer\n",
    "\n",
    "from sklearn.model_selection import train_test_split\n",
    "from sklearn.feature_extraction.text import CountVectorizer, TfidfVectorizer\n",
    "from sklearn.naive_bayes import MultinomialNB\n",
    "from sklearn import metrics\n",
    "\n",
    "from sklearn.metrics import confusion_matrix\n",
    "from sklearn.metrics import f1_score, precision_score, recall_score, accuracy_score"
   ]
  },
  {
   "cell_type": "code",
   "execution_count": 3,
   "metadata": {
    "execution": {
     "iopub.execute_input": "2021-04-04T18:37:03.717571Z",
     "iopub.status.busy": "2021-04-04T18:37:03.716895Z",
     "iopub.status.idle": "2021-04-04T18:37:03.854635Z",
     "shell.execute_reply": "2021-04-04T18:37:03.854086Z"
    },
    "papermill": {
     "duration": 0.165345,
     "end_time": "2021-04-04T18:37:03.854804",
     "exception": false,
     "start_time": "2021-04-04T18:37:03.689459",
     "status": "completed"
    },
    "tags": []
   },
   "outputs": [
    {
     "data": {
      "text/html": [
       "<div>\n",
       "<style scoped>\n",
       "    .dataframe tbody tr th:only-of-type {\n",
       "        vertical-align: middle;\n",
       "    }\n",
       "\n",
       "    .dataframe tbody tr th {\n",
       "        vertical-align: top;\n",
       "    }\n",
       "\n",
       "    .dataframe thead th {\n",
       "        text-align: right;\n",
       "    }\n",
       "</style>\n",
       "<table border=\"1\" class=\"dataframe\">\n",
       "  <thead>\n",
       "    <tr style=\"text-align: right;\">\n",
       "      <th></th>\n",
       "      <th>Query</th>\n",
       "      <th>Datetime(UTC)</th>\n",
       "      <th>Tweet ID</th>\n",
       "      <th>Text</th>\n",
       "      <th>Username</th>\n",
       "      <th>RT</th>\n",
       "      <th>RT Count</th>\n",
       "      <th>Fav Count</th>\n",
       "      <th>Sentiment (2pos/1neu/0neg)</th>\n",
       "      <th>Subjectivity (1opinion/0fact)</th>\n",
       "    </tr>\n",
       "  </thead>\n",
       "  <tbody>\n",
       "    <tr>\n",
       "      <th>0</th>\n",
       "      <td>$GME</td>\n",
       "      <td>5/3/2021 6:00</td>\n",
       "      <td>1.367720e+18</td>\n",
       "      <td>Think we're scared of the market makers?\\n\\n$A...</td>\n",
       "      <td>indigodisruptor</td>\n",
       "      <td>Y</td>\n",
       "      <td>9</td>\n",
       "      <td>0</td>\n",
       "      <td>NaN</td>\n",
       "      <td>NaN</td>\n",
       "    </tr>\n",
       "    <tr>\n",
       "      <th>1</th>\n",
       "      <td>$GME</td>\n",
       "      <td>5/3/2021 6:00</td>\n",
       "      <td>1.367720e+18</td>\n",
       "      <td>What these suits don’t know is $amc $gme wasn’...</td>\n",
       "      <td>Ladude2014</td>\n",
       "      <td>Y</td>\n",
       "      <td>5</td>\n",
       "      <td>0</td>\n",
       "      <td>NaN</td>\n",
       "      <td>NaN</td>\n",
       "    </tr>\n",
       "    <tr>\n",
       "      <th>2</th>\n",
       "      <td>$GME</td>\n",
       "      <td>5/3/2021 6:00</td>\n",
       "      <td>1.367720e+18</td>\n",
       "      <td>Holy shit LMFAO. \\n$AMC $GME \\n\\nTRUST THE APE...</td>\n",
       "      <td>handsomephil5</td>\n",
       "      <td>Y</td>\n",
       "      <td>48</td>\n",
       "      <td>0</td>\n",
       "      <td>NaN</td>\n",
       "      <td>NaN</td>\n",
       "    </tr>\n",
       "    <tr>\n",
       "      <th>3</th>\n",
       "      <td>$GME</td>\n",
       "      <td>5/3/2021 6:00</td>\n",
       "      <td>1.367720e+18</td>\n",
       "      <td>🔥 GUH: \"Fidelity closed out my shares of GME a...</td>\n",
       "      <td>WSBGains</td>\n",
       "      <td>N</td>\n",
       "      <td>0</td>\n",
       "      <td>0</td>\n",
       "      <td>0.0</td>\n",
       "      <td>1.0</td>\n",
       "    </tr>\n",
       "    <tr>\n",
       "      <th>4</th>\n",
       "      <td>$GME</td>\n",
       "      <td>5/3/2021 6:00</td>\n",
       "      <td>1.367720e+18</td>\n",
       "      <td>Amc Buy and hold Short Intrest borrow fee up t...</td>\n",
       "      <td>itsfibonacci96</td>\n",
       "      <td>Y</td>\n",
       "      <td>10</td>\n",
       "      <td>0</td>\n",
       "      <td>NaN</td>\n",
       "      <td>NaN</td>\n",
       "    </tr>\n",
       "  </tbody>\n",
       "</table>\n",
       "</div>"
      ],
      "text/plain": [
       "  Query  Datetime(UTC)      Tweet ID  \\\n",
       "0  $GME  5/3/2021 6:00  1.367720e+18   \n",
       "1  $GME  5/3/2021 6:00  1.367720e+18   \n",
       "2  $GME  5/3/2021 6:00  1.367720e+18   \n",
       "3  $GME  5/3/2021 6:00  1.367720e+18   \n",
       "4  $GME  5/3/2021 6:00  1.367720e+18   \n",
       "\n",
       "                                                Text         Username RT  \\\n",
       "0  Think we're scared of the market makers?\\n\\n$A...  indigodisruptor  Y   \n",
       "1  What these suits don’t know is $amc $gme wasn’...       Ladude2014  Y   \n",
       "2  Holy shit LMFAO. \\n$AMC $GME \\n\\nTRUST THE APE...    handsomephil5  Y   \n",
       "3  🔥 GUH: \"Fidelity closed out my shares of GME a...         WSBGains  N   \n",
       "4  Amc Buy and hold Short Intrest borrow fee up t...   itsfibonacci96  Y   \n",
       "\n",
       "   RT Count  Fav Count  Sentiment (2pos/1neu/0neg)  \\\n",
       "0         9          0                         NaN   \n",
       "1         5          0                         NaN   \n",
       "2        48          0                         NaN   \n",
       "3         0          0                         0.0   \n",
       "4        10          0                         NaN   \n",
       "\n",
       "   Subjectivity (1opinion/0fact)  \n",
       "0                            NaN  \n",
       "1                            NaN  \n",
       "2                            NaN  \n",
       "3                            1.0  \n",
       "4                            NaN  "
      ]
     },
     "execution_count": 3,
     "metadata": {},
     "output_type": "execute_result"
    }
   ],
   "source": [
    "# df = pd.read_csv(\"../input/stockticker10tweets5321-label/stockticker10-tweets(5-3-21) label.csv\")\n",
    "df = pd.read_csv(\"../input/stockticker10tweets/stockticker10-tweets.csv\")\n",
    "df.head()"
   ]
  },
  {
   "cell_type": "markdown",
   "metadata": {
    "papermill": {
     "duration": 0.018628,
     "end_time": "2021-04-04T18:37:03.893299",
     "exception": false,
     "start_time": "2021-04-04T18:37:03.874671",
     "status": "completed"
    },
    "tags": []
   },
   "source": [
    "# Preprocessing"
   ]
  },
  {
   "cell_type": "code",
   "execution_count": 4,
   "metadata": {
    "execution": {
     "iopub.execute_input": "2021-04-04T18:37:03.942226Z",
     "iopub.status.busy": "2021-04-04T18:37:03.941524Z",
     "iopub.status.idle": "2021-04-04T18:37:03.960725Z",
     "shell.execute_reply": "2021-04-04T18:37:03.959784Z"
    },
    "papermill": {
     "duration": 0.048931,
     "end_time": "2021-04-04T18:37:03.960902",
     "exception": false,
     "start_time": "2021-04-04T18:37:03.911971",
     "status": "completed"
    },
    "tags": []
   },
   "outputs": [
    {
     "name": "stdout",
     "output_type": "stream",
     "text": [
      "<class 'pandas.core.frame.DataFrame'>\n",
      "RangeIndex: 10000 entries, 0 to 9999\n",
      "Data columns (total 10 columns):\n",
      " #   Column                         Non-Null Count  Dtype  \n",
      "---  ------                         --------------  -----  \n",
      " 0   Query                          10000 non-null  object \n",
      " 1   Datetime(UTC)                  10000 non-null  object \n",
      " 2   Tweet ID                       10000 non-null  float64\n",
      " 3   Text                           10000 non-null  object \n",
      " 4   Username                       10000 non-null  object \n",
      " 5   RT                             10000 non-null  object \n",
      " 6   RT Count                       10000 non-null  int64  \n",
      " 7   Fav Count                      10000 non-null  int64  \n",
      " 8   Sentiment (2pos/1neu/0neg)     1008 non-null   float64\n",
      " 9   Subjectivity (1opinion/0fact)  1008 non-null   float64\n",
      "dtypes: float64(3), int64(2), object(5)\n",
      "memory usage: 781.4+ KB\n"
     ]
    }
   ],
   "source": [
    "df.info()"
   ]
  },
  {
   "cell_type": "code",
   "execution_count": 5,
   "metadata": {
    "execution": {
     "iopub.execute_input": "2021-04-04T18:37:04.010171Z",
     "iopub.status.busy": "2021-04-04T18:37:04.009278Z",
     "iopub.status.idle": "2021-04-04T18:37:04.041643Z",
     "shell.execute_reply": "2021-04-04T18:37:04.041056Z"
    },
    "papermill": {
     "duration": 0.061702,
     "end_time": "2021-04-04T18:37:04.041809",
     "exception": false,
     "start_time": "2021-04-04T18:37:03.980107",
     "status": "completed"
    },
    "tags": []
   },
   "outputs": [
    {
     "data": {
      "text/html": [
       "<div>\n",
       "<style scoped>\n",
       "    .dataframe tbody tr th:only-of-type {\n",
       "        vertical-align: middle;\n",
       "    }\n",
       "\n",
       "    .dataframe tbody tr th {\n",
       "        vertical-align: top;\n",
       "    }\n",
       "\n",
       "    .dataframe thead th {\n",
       "        text-align: right;\n",
       "    }\n",
       "</style>\n",
       "<table border=\"1\" class=\"dataframe\">\n",
       "  <thead>\n",
       "    <tr style=\"text-align: right;\">\n",
       "      <th></th>\n",
       "      <th>Query</th>\n",
       "      <th>Text</th>\n",
       "      <th>Username</th>\n",
       "      <th>Sentiment (2pos/1neu/0neg)</th>\n",
       "      <th>Subjectivity (1opinion/0fact)</th>\n",
       "    </tr>\n",
       "  </thead>\n",
       "  <tbody>\n",
       "    <tr>\n",
       "      <th>3</th>\n",
       "      <td>$GME</td>\n",
       "      <td>🔥 GUH: \"Fidelity closed out my shares of GME a...</td>\n",
       "      <td>WSBGains</td>\n",
       "      <td>0.0</td>\n",
       "      <td>1.0</td>\n",
       "    </tr>\n",
       "    <tr>\n",
       "      <th>6</th>\n",
       "      <td>$GME</td>\n",
       "      <td>Astounding that the $GME July $800 Call was up...</td>\n",
       "      <td>ColtStock</td>\n",
       "      <td>2.0</td>\n",
       "      <td>1.0</td>\n",
       "    </tr>\n",
       "    <tr>\n",
       "      <th>8</th>\n",
       "      <td>$GME</td>\n",
       "      <td>phantom stock at DTC created by illegal naked ...</td>\n",
       "      <td>AFakeBenONeill</td>\n",
       "      <td>0.0</td>\n",
       "      <td>1.0</td>\n",
       "    </tr>\n",
       "    <tr>\n",
       "      <th>20</th>\n",
       "      <td>$GME</td>\n",
       "      <td>GameStop Rally Thursday Likely Fueled By Ryan ...</td>\n",
       "      <td>QuantData</td>\n",
       "      <td>1.0</td>\n",
       "      <td>1.0</td>\n",
       "    </tr>\n",
       "    <tr>\n",
       "      <th>21</th>\n",
       "      <td>$GME</td>\n",
       "      <td>TD Ameritrade restricting Short Selling of $GM...</td>\n",
       "      <td>ajit_p_singh</td>\n",
       "      <td>0.0</td>\n",
       "      <td>1.0</td>\n",
       "    </tr>\n",
       "  </tbody>\n",
       "</table>\n",
       "</div>"
      ],
      "text/plain": [
       "   Query                                               Text        Username  \\\n",
       "3   $GME  🔥 GUH: \"Fidelity closed out my shares of GME a...        WSBGains   \n",
       "6   $GME  Astounding that the $GME July $800 Call was up...       ColtStock   \n",
       "8   $GME  phantom stock at DTC created by illegal naked ...  AFakeBenONeill   \n",
       "20  $GME  GameStop Rally Thursday Likely Fueled By Ryan ...       QuantData   \n",
       "21  $GME  TD Ameritrade restricting Short Selling of $GM...    ajit_p_singh   \n",
       "\n",
       "    Sentiment (2pos/1neu/0neg)  Subjectivity (1opinion/0fact)  \n",
       "3                          0.0                            1.0  \n",
       "6                          2.0                            1.0  \n",
       "8                          0.0                            1.0  \n",
       "20                         1.0                            1.0  \n",
       "21                         0.0                            1.0  "
      ]
     },
     "execution_count": 5,
     "metadata": {},
     "output_type": "execute_result"
    }
   ],
   "source": [
    "df = df.drop(['Datetime(UTC)','Tweet ID','RT', 'RT Count', 'Fav Count'], axis=1)\n",
    "df.dropna(subset=['Sentiment (2pos/1neu/0neg)'], inplace=True)\n",
    "df.head()"
   ]
  },
  {
   "cell_type": "code",
   "execution_count": 6,
   "metadata": {
    "execution": {
     "iopub.execute_input": "2021-04-04T18:37:04.095239Z",
     "iopub.status.busy": "2021-04-04T18:37:04.094439Z",
     "iopub.status.idle": "2021-04-04T18:37:06.747866Z",
     "shell.execute_reply": "2021-04-04T18:37:06.747078Z"
    },
    "papermill": {
     "duration": 2.685148,
     "end_time": "2021-04-04T18:37:06.748111",
     "exception": false,
     "start_time": "2021-04-04T18:37:04.062963",
     "status": "completed"
    },
    "tags": []
   },
   "outputs": [],
   "source": [
    "lemmatizer = WordNetLemmatizer()\n",
    "stemmer = PorterStemmer()\n",
    "\n",
    "def preprocess(text):\n",
    "    text = str(text)\n",
    "    text = text.lower()\n",
    "    text = text.replace('{html}',\"\") \n",
    "    cleanr = re.compile('<.*?>')\n",
    "    cleantext = re.sub(cleanr, '', text)\n",
    "    rem_url=re.sub(r'http\\S+', '',cleantext)\n",
    "    rem_num = re.sub('[0-9]+', '', rem_url)\n",
    "    rem_tweet = re.sub('@[^\\s]+','',rem_num)\n",
    "    tokenizer = RegexpTokenizer(r'\\w+')\n",
    "    tokens = tokenizer.tokenize(rem_tweet)  \n",
    "    filtered_words = [w for w in tokens if len(w) > 2 if not w in stop]\n",
    "    stem_words=[stemmer.stem(w) for w in filtered_words]\n",
    "    lemma_words=[lemmatizer.lemmatize(w) for w in stem_words]\n",
    "    return \" \".join(filtered_words)\n",
    "\n",
    "df['cleanText'] = df['Text'].apply(preprocess)"
   ]
  },
  {
   "cell_type": "code",
   "execution_count": 7,
   "metadata": {
    "execution": {
     "iopub.execute_input": "2021-04-04T18:37:06.794574Z",
     "iopub.status.busy": "2021-04-04T18:37:06.793441Z",
     "iopub.status.idle": "2021-04-04T18:37:06.798146Z",
     "shell.execute_reply": "2021-04-04T18:37:06.797513Z"
    },
    "papermill": {
     "duration": 0.031136,
     "end_time": "2021-04-04T18:37:06.798286",
     "exception": false,
     "start_time": "2021-04-04T18:37:06.767150",
     "status": "completed"
    },
    "tags": []
   },
   "outputs": [
    {
     "data": {
      "text/plain": [
       "3       guh fidelity closed shares gme risk liquidatio...\n",
       "6             astounding gme july call today heavy volume\n",
       "8       phantom stock dtc created illegal naked shorts...\n",
       "20      gamestop rally thursday likely fueled ryan coh...\n",
       "21      ameritrade restricting short selling gme rkt u...\n",
       "                              ...                        \n",
       "9968    google follows apple path greater online priva...\n",
       "9970    nasdaq index closed time highs today time buyi...\n",
       "9984    wierd little bit unpopular miss crazy dad gme ...\n",
       "9990        dogecoin doge performing better aapl let sink\n",
       "9995    apple clarifies siri setting default music ser...\n",
       "Name: cleanText, Length: 1008, dtype: object"
      ]
     },
     "execution_count": 7,
     "metadata": {},
     "output_type": "execute_result"
    }
   ],
   "source": [
    "df_cleanText = df['cleanText']\n",
    "df_cleanText"
   ]
  },
  {
   "cell_type": "code",
   "execution_count": 8,
   "metadata": {
    "execution": {
     "iopub.execute_input": "2021-04-04T18:37:06.842684Z",
     "iopub.status.busy": "2021-04-04T18:37:06.841701Z",
     "iopub.status.idle": "2021-04-04T18:37:06.856158Z",
     "shell.execute_reply": "2021-04-04T18:37:06.856723Z"
    },
    "papermill": {
     "duration": 0.038513,
     "end_time": "2021-04-04T18:37:06.856908",
     "exception": false,
     "start_time": "2021-04-04T18:37:06.818395",
     "status": "completed"
    },
    "tags": []
   },
   "outputs": [
    {
     "data": {
      "text/html": [
       "<div>\n",
       "<style scoped>\n",
       "    .dataframe tbody tr th:only-of-type {\n",
       "        vertical-align: middle;\n",
       "    }\n",
       "\n",
       "    .dataframe tbody tr th {\n",
       "        vertical-align: top;\n",
       "    }\n",
       "\n",
       "    .dataframe thead th {\n",
       "        text-align: right;\n",
       "    }\n",
       "</style>\n",
       "<table border=\"1\" class=\"dataframe\">\n",
       "  <thead>\n",
       "    <tr style=\"text-align: right;\">\n",
       "      <th></th>\n",
       "      <th>Query</th>\n",
       "      <th>Text</th>\n",
       "      <th>Username</th>\n",
       "      <th>Sentiment (2pos/1neu/0neg)</th>\n",
       "      <th>Subjectivity (1opinion/0fact)</th>\n",
       "      <th>cleanText</th>\n",
       "    </tr>\n",
       "  </thead>\n",
       "  <tbody>\n",
       "    <tr>\n",
       "      <th>3</th>\n",
       "      <td>$GME</td>\n",
       "      <td>🔥 GUH: \"Fidelity closed out my shares of GME a...</td>\n",
       "      <td>WSBGains</td>\n",
       "      <td>0.0</td>\n",
       "      <td>1.0</td>\n",
       "      <td>guh fidelity closed shares gme risk liquidatio...</td>\n",
       "    </tr>\n",
       "    <tr>\n",
       "      <th>6</th>\n",
       "      <td>$GME</td>\n",
       "      <td>Astounding that the $GME July $800 Call was up...</td>\n",
       "      <td>ColtStock</td>\n",
       "      <td>2.0</td>\n",
       "      <td>1.0</td>\n",
       "      <td>astounding gme july call today heavy volume</td>\n",
       "    </tr>\n",
       "    <tr>\n",
       "      <th>8</th>\n",
       "      <td>$GME</td>\n",
       "      <td>phantom stock at DTC created by illegal naked ...</td>\n",
       "      <td>AFakeBenONeill</td>\n",
       "      <td>0.0</td>\n",
       "      <td>1.0</td>\n",
       "      <td>phantom stock dtc created illegal naked shorts...</td>\n",
       "    </tr>\n",
       "    <tr>\n",
       "      <th>20</th>\n",
       "      <td>$GME</td>\n",
       "      <td>GameStop Rally Thursday Likely Fueled By Ryan ...</td>\n",
       "      <td>QuantData</td>\n",
       "      <td>1.0</td>\n",
       "      <td>1.0</td>\n",
       "      <td>gamestop rally thursday likely fueled ryan coh...</td>\n",
       "    </tr>\n",
       "    <tr>\n",
       "      <th>21</th>\n",
       "      <td>$GME</td>\n",
       "      <td>TD Ameritrade restricting Short Selling of $GM...</td>\n",
       "      <td>ajit_p_singh</td>\n",
       "      <td>0.0</td>\n",
       "      <td>1.0</td>\n",
       "      <td>ameritrade restricting short selling gme rkt u...</td>\n",
       "    </tr>\n",
       "  </tbody>\n",
       "</table>\n",
       "</div>"
      ],
      "text/plain": [
       "   Query                                               Text        Username  \\\n",
       "3   $GME  🔥 GUH: \"Fidelity closed out my shares of GME a...        WSBGains   \n",
       "6   $GME  Astounding that the $GME July $800 Call was up...       ColtStock   \n",
       "8   $GME  phantom stock at DTC created by illegal naked ...  AFakeBenONeill   \n",
       "20  $GME  GameStop Rally Thursday Likely Fueled By Ryan ...       QuantData   \n",
       "21  $GME  TD Ameritrade restricting Short Selling of $GM...    ajit_p_singh   \n",
       "\n",
       "    Sentiment (2pos/1neu/0neg)  Subjectivity (1opinion/0fact)  \\\n",
       "3                          0.0                            1.0   \n",
       "6                          2.0                            1.0   \n",
       "8                          0.0                            1.0   \n",
       "20                         1.0                            1.0   \n",
       "21                         0.0                            1.0   \n",
       "\n",
       "                                            cleanText  \n",
       "3   guh fidelity closed shares gme risk liquidatio...  \n",
       "6         astounding gme july call today heavy volume  \n",
       "8   phantom stock dtc created illegal naked shorts...  \n",
       "20  gamestop rally thursday likely fueled ryan coh...  \n",
       "21  ameritrade restricting short selling gme rkt u...  "
      ]
     },
     "execution_count": 8,
     "metadata": {},
     "output_type": "execute_result"
    }
   ],
   "source": [
    "df.head()"
   ]
  },
  {
   "cell_type": "markdown",
   "metadata": {
    "papermill": {
     "duration": 0.019742,
     "end_time": "2021-04-04T18:37:06.896661",
     "exception": false,
     "start_time": "2021-04-04T18:37:06.876919",
     "status": "completed"
    },
    "tags": []
   },
   "source": [
    "# Classification\n",
    "\n",
    "## VADER"
   ]
  },
  {
   "cell_type": "code",
   "execution_count": 9,
   "metadata": {
    "execution": {
     "iopub.execute_input": "2021-04-04T18:37:06.940465Z",
     "iopub.status.busy": "2021-04-04T18:37:06.939530Z",
     "iopub.status.idle": "2021-04-04T18:37:15.796994Z",
     "shell.execute_reply": "2021-04-04T18:37:15.796299Z"
    },
    "papermill": {
     "duration": 8.880515,
     "end_time": "2021-04-04T18:37:15.797169",
     "exception": false,
     "start_time": "2021-04-04T18:37:06.916654",
     "status": "completed"
    },
    "tags": []
   },
   "outputs": [],
   "source": [
    "def VADER(sentence):\n",
    "    VADER_sentence = str(sentence)\n",
    "    VADER_analyser = SentimentIntensityAnalyzer()\n",
    "    \n",
    "    \n",
    "    score = VADER_analyser.polarity_scores(VADER_sentence)\n",
    "    VADER_answer = score['compound']\n",
    "    if(VADER_answer>0):\n",
    "        return_rating = 2\n",
    "    elif(VADER_answer<0):\n",
    "        return_rating = 0\n",
    "    else:\n",
    "        return_rating = 1\n",
    "    return return_rating\n",
    "    \n",
    "\n",
    "df['VADER'] = df['Text'].map(lambda s:VADER(s)) "
   ]
  },
  {
   "cell_type": "code",
   "execution_count": 10,
   "metadata": {
    "execution": {
     "iopub.execute_input": "2021-04-04T18:37:15.861412Z",
     "iopub.status.busy": "2021-04-04T18:37:15.860749Z",
     "iopub.status.idle": "2021-04-04T18:37:15.866068Z",
     "shell.execute_reply": "2021-04-04T18:37:15.865524Z"
    },
    "papermill": {
     "duration": 0.048078,
     "end_time": "2021-04-04T18:37:15.866211",
     "exception": false,
     "start_time": "2021-04-04T18:37:15.818133",
     "status": "completed"
    },
    "tags": []
   },
   "outputs": [
    {
     "data": {
      "text/html": [
       "<div>\n",
       "<style scoped>\n",
       "    .dataframe tbody tr th:only-of-type {\n",
       "        vertical-align: middle;\n",
       "    }\n",
       "\n",
       "    .dataframe tbody tr th {\n",
       "        vertical-align: top;\n",
       "    }\n",
       "\n",
       "    .dataframe thead th {\n",
       "        text-align: right;\n",
       "    }\n",
       "</style>\n",
       "<table border=\"1\" class=\"dataframe\">\n",
       "  <thead>\n",
       "    <tr style=\"text-align: right;\">\n",
       "      <th></th>\n",
       "      <th>Query</th>\n",
       "      <th>Text</th>\n",
       "      <th>Username</th>\n",
       "      <th>Sentiment (2pos/1neu/0neg)</th>\n",
       "      <th>Subjectivity (1opinion/0fact)</th>\n",
       "      <th>cleanText</th>\n",
       "      <th>VADER</th>\n",
       "    </tr>\n",
       "  </thead>\n",
       "  <tbody>\n",
       "    <tr>\n",
       "      <th>3</th>\n",
       "      <td>$GME</td>\n",
       "      <td>🔥 GUH: \"Fidelity closed out my shares of GME a...</td>\n",
       "      <td>WSBGains</td>\n",
       "      <td>0.0</td>\n",
       "      <td>1.0</td>\n",
       "      <td>guh fidelity closed shares gme risk liquidatio...</td>\n",
       "      <td>0</td>\n",
       "    </tr>\n",
       "    <tr>\n",
       "      <th>6</th>\n",
       "      <td>$GME</td>\n",
       "      <td>Astounding that the $GME July $800 Call was up...</td>\n",
       "      <td>ColtStock</td>\n",
       "      <td>2.0</td>\n",
       "      <td>1.0</td>\n",
       "      <td>astounding gme july call today heavy volume</td>\n",
       "      <td>2</td>\n",
       "    </tr>\n",
       "    <tr>\n",
       "      <th>8</th>\n",
       "      <td>$GME</td>\n",
       "      <td>phantom stock at DTC created by illegal naked ...</td>\n",
       "      <td>AFakeBenONeill</td>\n",
       "      <td>0.0</td>\n",
       "      <td>1.0</td>\n",
       "      <td>phantom stock dtc created illegal naked shorts...</td>\n",
       "      <td>0</td>\n",
       "    </tr>\n",
       "    <tr>\n",
       "      <th>20</th>\n",
       "      <td>$GME</td>\n",
       "      <td>GameStop Rally Thursday Likely Fueled By Ryan ...</td>\n",
       "      <td>QuantData</td>\n",
       "      <td>1.0</td>\n",
       "      <td>1.0</td>\n",
       "      <td>gamestop rally thursday likely fueled ryan coh...</td>\n",
       "      <td>1</td>\n",
       "    </tr>\n",
       "    <tr>\n",
       "      <th>21</th>\n",
       "      <td>$GME</td>\n",
       "      <td>TD Ameritrade restricting Short Selling of $GM...</td>\n",
       "      <td>ajit_p_singh</td>\n",
       "      <td>0.0</td>\n",
       "      <td>1.0</td>\n",
       "      <td>ameritrade restricting short selling gme rkt u...</td>\n",
       "      <td>0</td>\n",
       "    </tr>\n",
       "    <tr>\n",
       "      <th>...</th>\n",
       "      <td>...</td>\n",
       "      <td>...</td>\n",
       "      <td>...</td>\n",
       "      <td>...</td>\n",
       "      <td>...</td>\n",
       "      <td>...</td>\n",
       "      <td>...</td>\n",
       "    </tr>\n",
       "    <tr>\n",
       "      <th>9968</th>\n",
       "      <td>$AAPL</td>\n",
       "      <td>Google Follows Apple Down the Path to Greater ...</td>\n",
       "      <td>roaminstone</td>\n",
       "      <td>1.0</td>\n",
       "      <td>0.0</td>\n",
       "      <td>google follows apple path greater online priva...</td>\n",
       "      <td>2</td>\n",
       "    </tr>\n",
       "    <tr>\n",
       "      <th>9970</th>\n",
       "      <td>$AAPL</td>\n",
       "      <td>The Nasdaq 100 index closed &amp;gt;10% down from ...</td>\n",
       "      <td>diamondoptions2</td>\n",
       "      <td>1.0</td>\n",
       "      <td>0.0</td>\n",
       "      <td>nasdaq index closed time highs today time buyi...</td>\n",
       "      <td>1</td>\n",
       "    </tr>\n",
       "    <tr>\n",
       "      <th>9984</th>\n",
       "      <td>$AAPL</td>\n",
       "      <td>This is wierd and a little bit unpopular but I...</td>\n",
       "      <td>JonathanBFInv</td>\n",
       "      <td>2.0</td>\n",
       "      <td>1.0</td>\n",
       "      <td>wierd little bit unpopular miss crazy dad gme ...</td>\n",
       "      <td>2</td>\n",
       "    </tr>\n",
       "    <tr>\n",
       "      <th>9990</th>\n",
       "      <td>$AAPL</td>\n",
       "      <td>Dogecoin $DOGE is performing better than $AAPL...</td>\n",
       "      <td>Saltb0x</td>\n",
       "      <td>2.0</td>\n",
       "      <td>1.0</td>\n",
       "      <td>dogecoin doge performing better aapl let sink</td>\n",
       "      <td>2</td>\n",
       "    </tr>\n",
       "    <tr>\n",
       "      <th>9995</th>\n",
       "      <td>$AAPL</td>\n",
       "      <td>Apple clarifies that Siri isn't setting a defa...</td>\n",
       "      <td>MacHashNews</td>\n",
       "      <td>1.0</td>\n",
       "      <td>0.0</td>\n",
       "      <td>apple clarifies siri setting default music ser...</td>\n",
       "      <td>2</td>\n",
       "    </tr>\n",
       "  </tbody>\n",
       "</table>\n",
       "<p>1008 rows × 7 columns</p>\n",
       "</div>"
      ],
      "text/plain": [
       "      Query                                               Text  \\\n",
       "3      $GME  🔥 GUH: \"Fidelity closed out my shares of GME a...   \n",
       "6      $GME  Astounding that the $GME July $800 Call was up...   \n",
       "8      $GME  phantom stock at DTC created by illegal naked ...   \n",
       "20     $GME  GameStop Rally Thursday Likely Fueled By Ryan ...   \n",
       "21     $GME  TD Ameritrade restricting Short Selling of $GM...   \n",
       "...     ...                                                ...   \n",
       "9968  $AAPL  Google Follows Apple Down the Path to Greater ...   \n",
       "9970  $AAPL  The Nasdaq 100 index closed &gt;10% down from ...   \n",
       "9984  $AAPL  This is wierd and a little bit unpopular but I...   \n",
       "9990  $AAPL  Dogecoin $DOGE is performing better than $AAPL...   \n",
       "9995  $AAPL  Apple clarifies that Siri isn't setting a defa...   \n",
       "\n",
       "             Username  Sentiment (2pos/1neu/0neg)  \\\n",
       "3            WSBGains                         0.0   \n",
       "6           ColtStock                         2.0   \n",
       "8      AFakeBenONeill                         0.0   \n",
       "20          QuantData                         1.0   \n",
       "21       ajit_p_singh                         0.0   \n",
       "...               ...                         ...   \n",
       "9968      roaminstone                         1.0   \n",
       "9970  diamondoptions2                         1.0   \n",
       "9984    JonathanBFInv                         2.0   \n",
       "9990          Saltb0x                         2.0   \n",
       "9995      MacHashNews                         1.0   \n",
       "\n",
       "      Subjectivity (1opinion/0fact)  \\\n",
       "3                               1.0   \n",
       "6                               1.0   \n",
       "8                               1.0   \n",
       "20                              1.0   \n",
       "21                              1.0   \n",
       "...                             ...   \n",
       "9968                            0.0   \n",
       "9970                            0.0   \n",
       "9984                            1.0   \n",
       "9990                            1.0   \n",
       "9995                            0.0   \n",
       "\n",
       "                                              cleanText  VADER  \n",
       "3     guh fidelity closed shares gme risk liquidatio...      0  \n",
       "6           astounding gme july call today heavy volume      2  \n",
       "8     phantom stock dtc created illegal naked shorts...      0  \n",
       "20    gamestop rally thursday likely fueled ryan coh...      1  \n",
       "21    ameritrade restricting short selling gme rkt u...      0  \n",
       "...                                                 ...    ...  \n",
       "9968  google follows apple path greater online priva...      2  \n",
       "9970  nasdaq index closed time highs today time buyi...      1  \n",
       "9984  wierd little bit unpopular miss crazy dad gme ...      2  \n",
       "9990      dogecoin doge performing better aapl let sink      2  \n",
       "9995  apple clarifies siri setting default music ser...      2  \n",
       "\n",
       "[1008 rows x 7 columns]"
      ]
     },
     "execution_count": 10,
     "metadata": {},
     "output_type": "execute_result"
    }
   ],
   "source": [
    "df"
   ]
  },
  {
   "cell_type": "markdown",
   "metadata": {
    "papermill": {
     "duration": 0.021586,
     "end_time": "2021-04-04T18:37:15.909187",
     "exception": false,
     "start_time": "2021-04-04T18:37:15.887601",
     "status": "completed"
    },
    "tags": []
   },
   "source": [
    "# Comparing VADER against manual label"
   ]
  },
  {
   "cell_type": "code",
   "execution_count": 11,
   "metadata": {
    "execution": {
     "iopub.execute_input": "2021-04-04T18:37:15.957316Z",
     "iopub.status.busy": "2021-04-04T18:37:15.956622Z",
     "iopub.status.idle": "2021-04-04T18:37:15.959735Z",
     "shell.execute_reply": "2021-04-04T18:37:15.959004Z"
    },
    "papermill": {
     "duration": 0.029415,
     "end_time": "2021-04-04T18:37:15.959880",
     "exception": false,
     "start_time": "2021-04-04T18:37:15.930465",
     "status": "completed"
    },
    "tags": []
   },
   "outputs": [],
   "source": [
    "y_true=pd.Series(df['Sentiment (2pos/1neu/0neg)']).array\n",
    "y_pred = pd.Series(df['VADER']).array"
   ]
  },
  {
   "cell_type": "code",
   "execution_count": 12,
   "metadata": {
    "execution": {
     "iopub.execute_input": "2021-04-04T18:37:16.010273Z",
     "iopub.status.busy": "2021-04-04T18:37:16.009443Z",
     "iopub.status.idle": "2021-04-04T18:37:16.020316Z",
     "shell.execute_reply": "2021-04-04T18:37:16.019744Z"
    },
    "papermill": {
     "duration": 0.03841,
     "end_time": "2021-04-04T18:37:16.020487",
     "exception": false,
     "start_time": "2021-04-04T18:37:15.982077",
     "status": "completed"
    },
    "tags": []
   },
   "outputs": [
    {
     "data": {
      "text/plain": [
       "array([[285,  16,  35],\n",
       "       [ 37, 188, 111],\n",
       "       [  2,   0, 334]])"
      ]
     },
     "execution_count": 12,
     "metadata": {},
     "output_type": "execute_result"
    }
   ],
   "source": [
    "cm = confusion_matrix(y_true, y_pred)\n",
    "cm"
   ]
  },
  {
   "cell_type": "code",
   "execution_count": 13,
   "metadata": {
    "execution": {
     "iopub.execute_input": "2021-04-04T18:37:16.089097Z",
     "iopub.status.busy": "2021-04-04T18:37:16.086557Z",
     "iopub.status.idle": "2021-04-04T18:37:16.332156Z",
     "shell.execute_reply": "2021-04-04T18:37:16.331620Z"
    },
    "papermill": {
     "duration": 0.289813,
     "end_time": "2021-04-04T18:37:16.332297",
     "exception": false,
     "start_time": "2021-04-04T18:37:16.042484",
     "status": "completed"
    },
    "tags": []
   },
   "outputs": [
    {
     "data": {
      "image/png": "[encoded data removed]",
      "text/plain": [
       "<Figure size 432x288 with 2 Axes>"
      ]
     },
     "metadata": {
      "needs_background": "light"
     },
     "output_type": "display_data"
    }
   ],
   "source": [
    "fig = plt.figure()\n",
    "sns.heatmap(cm, annot = True, fmt='d')\n",
    "plt.title(\"Confusion matrix of VADER vs Manual Label for Twitter\")\n",
    "plt.xlabel('Predicted')\n",
    "plt.ylabel('Actual')\n",
    "plt.show()"
   ]
  },
  {
   "cell_type": "code",
   "execution_count": 14,
   "metadata": {
    "execution": {
     "iopub.execute_input": "2021-04-04T18:37:16.385660Z",
     "iopub.status.busy": "2021-04-04T18:37:16.384972Z",
     "iopub.status.idle": "2021-04-04T18:37:16.395538Z",
     "shell.execute_reply": "2021-04-04T18:37:16.394947Z"
    },
    "papermill": {
     "duration": 0.040109,
     "end_time": "2021-04-04T18:37:16.395683",
     "exception": false,
     "start_time": "2021-04-04T18:37:16.355574",
     "status": "completed"
    },
    "tags": []
   },
   "outputs": [
    {
     "name": "stdout",
     "output_type": "stream",
     "text": [
      "Accuracy: 80.06%\n",
      "F1-score: 0.793\n",
      "Precision Score: 0.832\n",
      "Recall Score: 0.801\n"
     ]
    }
   ],
   "source": [
    "accuracy = accuracy_score(y_true, y_pred)\n",
    "f1Score = f1_score(y_true, y_pred, average='macro')\n",
    "precisionScore = precision_score(y_true, y_pred, average='macro')\n",
    "recallScore = recall_score(y_true, y_pred, average='macro')\n",
    "\n",
    "print(\"Accuracy: {}%\\nF1-score: {}\\nPrecision Score: {}\\nRecall Score: {}\".format(f'{accuracy*100:.2f}', f'{f1Score:.3f}', f'{precisionScore:.3f}', f'{recallScore:.3f}'))"
   ]
  },
  {
   "cell_type": "markdown",
   "metadata": {
    "papermill": {
     "duration": 0.023227,
     "end_time": "2021-04-04T18:37:16.442663",
     "exception": false,
     "start_time": "2021-04-04T18:37:16.419436",
     "status": "completed"
    },
    "tags": []
   },
   "source": [
    "# Naive Bayes Classifier"
   ]
  },
  {
   "cell_type": "code",
   "execution_count": 15,
   "metadata": {
    "execution": {
     "iopub.execute_input": "2021-04-04T18:37:16.499007Z",
     "iopub.status.busy": "2021-04-04T18:37:16.498320Z",
     "iopub.status.idle": "2021-04-04T18:37:16.501598Z",
     "shell.execute_reply": "2021-04-04T18:37:16.501042Z"
    },
    "papermill": {
     "duration": 0.035582,
     "end_time": "2021-04-04T18:37:16.501761",
     "exception": false,
     "start_time": "2021-04-04T18:37:16.466179",
     "status": "completed"
    },
    "tags": []
   },
   "outputs": [],
   "source": [
    "x_train, x_test, y_train, y_test = train_test_split(df[['cleanText']], \n",
    "                                                    df['Sentiment (2pos/1neu/0neg)'], \n",
    "                                                    test_size=0.2, \n",
    "                                                    random_state=0)"
   ]
  },
  {
   "cell_type": "code",
   "execution_count": 16,
   "metadata": {
    "execution": {
     "iopub.execute_input": "2021-04-04T18:37:16.560481Z",
     "iopub.status.busy": "2021-04-04T18:37:16.559797Z",
     "iopub.status.idle": "2021-04-04T18:37:16.622855Z",
     "shell.execute_reply": "2021-04-04T18:37:16.622220Z"
    },
    "papermill": {
     "duration": 0.096424,
     "end_time": "2021-04-04T18:37:16.623028",
     "exception": false,
     "start_time": "2021-04-04T18:37:16.526604",
     "status": "completed"
    },
    "tags": []
   },
   "outputs": [],
   "source": [
    "vectorizer = CountVectorizer(ngram_range=(1,2))\n",
    "cv = vectorizer.fit_transform(x_train['cleanText'])"
   ]
  },
  {
   "cell_type": "code",
   "execution_count": 17,
   "metadata": {
    "execution": {
     "iopub.execute_input": "2021-04-04T18:37:16.676309Z",
     "iopub.status.busy": "2021-04-04T18:37:16.675630Z",
     "iopub.status.idle": "2021-04-04T18:37:16.682567Z",
     "shell.execute_reply": "2021-04-04T18:37:16.683183Z"
    },
    "papermill": {
     "duration": 0.036483,
     "end_time": "2021-04-04T18:37:16.683372",
     "exception": false,
     "start_time": "2021-04-04T18:37:16.646889",
     "status": "completed"
    },
    "tags": []
   },
   "outputs": [],
   "source": [
    "clf = MultinomialNB().fit(cv, y_train)"
   ]
  },
  {
   "cell_type": "code",
   "execution_count": 18,
   "metadata": {
    "execution": {
     "iopub.execute_input": "2021-04-04T18:37:16.734324Z",
     "iopub.status.busy": "2021-04-04T18:37:16.733642Z",
     "iopub.status.idle": "2021-04-04T18:37:16.749313Z",
     "shell.execute_reply": "2021-04-04T18:37:16.749955Z"
    },
    "papermill": {
     "duration": 0.042922,
     "end_time": "2021-04-04T18:37:16.750155",
     "exception": false,
     "start_time": "2021-04-04T18:37:16.707233",
     "status": "completed"
    },
    "tags": []
   },
   "outputs": [
    {
     "data": {
      "text/plain": [
       "array([[46,  9, 15],\n",
       "       [11, 43,  9],\n",
       "       [ 5,  6, 58]])"
      ]
     },
     "execution_count": 18,
     "metadata": {},
     "output_type": "execute_result"
    }
   ],
   "source": [
    "test_vector = vectorizer.transform(x_test['cleanText'])\n",
    "result = clf.predict(test_vector)\n",
    "cmNB = metrics.confusion_matrix(y_test, result)\n",
    "cmNB"
   ]
  },
  {
   "cell_type": "code",
   "execution_count": 19,
   "metadata": {
    "execution": {
     "iopub.execute_input": "2021-04-04T18:37:16.801921Z",
     "iopub.status.busy": "2021-04-04T18:37:16.801292Z",
     "iopub.status.idle": "2021-04-04T18:37:17.008476Z",
     "shell.execute_reply": "2021-04-04T18:37:17.008990Z"
    },
    "papermill": {
     "duration": 0.234825,
     "end_time": "2021-04-04T18:37:17.009177",
     "exception": false,
     "start_time": "2021-04-04T18:37:16.774352",
     "status": "completed"
    },
    "tags": []
   },
   "outputs": [
    {
     "data": {
      "image/png": "[encoded data removed]",
      "text/plain": [
       "<Figure size 432x288 with 2 Axes>"
      ]
     },
     "metadata": {
      "needs_background": "light"
     },
     "output_type": "display_data"
    }
   ],
   "source": [
    "fig = plt.figure()\n",
    "sns.heatmap(cmNB, annot = True, fmt='d')\n",
    "plt.title(\"Confusion matrix of Naive Bayes Classification for Twitter\")\n",
    "plt.xlabel('Predicted')\n",
    "plt.ylabel('Actual')\n",
    "plt.show()"
   ]
  },
  {
   "cell_type": "code",
   "execution_count": 20,
   "metadata": {
    "execution": {
     "iopub.execute_input": "2021-04-04T18:37:17.063310Z",
     "iopub.status.busy": "2021-04-04T18:37:17.062597Z",
     "iopub.status.idle": "2021-04-04T18:37:17.074481Z",
     "shell.execute_reply": "2021-04-04T18:37:17.073503Z"
    },
    "papermill": {
     "duration": 0.040064,
     "end_time": "2021-04-04T18:37:17.074698",
     "exception": false,
     "start_time": "2021-04-04T18:37:17.034634",
     "status": "completed"
    },
    "tags": []
   },
   "outputs": [
    {
     "name": "stdout",
     "output_type": "stream",
     "text": [
      "Accuracy: 72.77%\n",
      "F1-score: 0.725\n",
      "Precision Score: 0.730\n",
      "Recall Score: 0.727\n"
     ]
    }
   ],
   "source": [
    "# count vectorizing with unigram + bigram\n",
    "accuracy = accuracy_score(y_test, result)\n",
    "f1Score = f1_score(y_test, result, average='macro')\n",
    "precisionScore= precision_score(y_test, result, average='macro')\n",
    "recallScore = recall_score(y_test, result, average='macro')\n",
    "\n",
    "print(\"Accuracy: {}%\\nF1-score: {}\\nPrecision Score: {}\\nRecall Score: {}\".format(f'{accuracy*100:.2f}', f'{f1Score:.3f}', f'{precisionScore:.3f}', f'{recallScore:.3f}'))"
   ]
  },
  {
   "cell_type": "code",
   "execution_count": 21,
   "metadata": {
    "execution": {
     "iopub.execute_input": "2021-04-04T18:37:17.131454Z",
     "iopub.status.busy": "2021-04-04T18:37:17.130803Z",
     "iopub.status.idle": "2021-04-04T18:37:17.154109Z",
     "shell.execute_reply": "2021-04-04T18:37:17.153392Z"
    },
    "papermill": {
     "duration": 0.053017,
     "end_time": "2021-04-04T18:37:17.154254",
     "exception": false,
     "start_time": "2021-04-04T18:37:17.101237",
     "status": "completed"
    },
    "tags": []
   },
   "outputs": [],
   "source": [
    "df.to_csv('twitter_dataset.csv')"
   ]
  }
 ],
 "metadata": {
  "kernelspec": {
   "display_name": "Python 3",
   "language": "python",
   "name": "python3"
  },
  "language_info": {
   "codemirror_mode": {
    "name": "ipython",
    "version": 3
   },
   "file_extension": ".py",
   "mimetype": "text/x-python",
   "name": "python",
   "nbconvert_exporter": "python",
   "pygments_lexer": "ipython3",
   "version": "3.7.9"
  },
  "papermill": {
   "default_parameters": {},
   "duration": 123.184729,
   "end_time": "2021-04-04T18:37:18.091725",
   "environment_variables": {},
   "exception": null,
   "input_path": "__notebook__.ipynb",
   "output_path": "__notebook__.ipynb",
   "parameters": {},
   "start_time": "2021-04-04T18:35:14.906996",
   "version": "2.2.2"
  }
 },
 "nbformat": 4,
 "nbformat_minor": 4
}
