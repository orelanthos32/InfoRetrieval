{
 "cells": [
  {
   "cell_type": "code",
   "execution_count": 1,
   "metadata": {
    "_cell_guid": "b1076dfc-b9ad-4769-8c92-a6c4dae69d19",
    "_uuid": "8f2839f25d086af736a60e9eeb907d3b93b6e0e5",
    "execution": {
     "iopub.execute_input": "2021-04-04T18:36:46.265814Z",
     "iopub.status.busy": "2021-04-04T18:36:46.265116Z",
     "iopub.status.idle": "2021-04-04T18:36:46.307738Z",
     "shell.execute_reply": "2021-04-04T18:36:46.308391Z"
    },
    "papermill": {
     "duration": 0.06299,
     "end_time": "2021-04-04T18:36:46.308714",
     "exception": false,
     "start_time": "2021-04-04T18:36:46.245724",
     "status": "completed"
    },
    "tags": []
   },
   "outputs": [
    {
     "name": "stdout",
     "output_type": "stream",
     "text": [
      "/kaggle/input/stockticker10tweets5321-label/stockticker10-tweets(5-3-21) label.csv\n",
      "/kaggle/input/stockticker10tweetsdataset-23221/stockticker10-tweets(dataset 23-2-21).csv\n",
      "/kaggle/input/main-reddit-manual-gme1616872068/MAIN_Reddit_Manual - gme1616872068.csv\n",
      "/kaggle/input/reddit-equal-distribution/Reddit Equal Distribution.csv\n",
      "/kaggle/input/stockticker10tweets5321/stockticker10-tweets(5-3-21).csv\n"
     ]
    }
   ],
   "source": [
    "# This Python 3 environment comes with many helpful analytics libraries installed\n",
    "# It is defined by the kaggle/python Docker image: https://github.com/kaggle/docker-python\n",
    "# For example, here's several helpful packages to load\n",
    "\n",
    "import numpy as np # linear algebra\n",
    "import pandas as pd # data processing, CSV file I/O (e.g. pd.read_csv)\n",
    "\n",
    "# Input data files are available in the read-only \"../input/\" directory\n",
    "# For example, running this (by clicking run or pressing Shift+Enter) will list all files under the input directory\n",
    "\n",
    "import os\n",
    "for dirname, _, filenames in os.walk('/kaggle/input'):\n",
    "    for filename in filenames:\n",
    "        print(os.path.join(dirname, filename))\n",
    "\n",
    "# You can write up to 20GB to the current directory (/kaggle/working/) that gets preserved as output when you create a version using \"Save & Run All\" \n",
    "# You can also write temporary files to /kaggle/temp/, but they won't be saved outside of the current session"
   ]
  },
  {
   "cell_type": "code",
   "execution_count": 2,
   "metadata": {
    "execution": {
     "iopub.execute_input": "2021-04-04T18:36:46.345109Z",
     "iopub.status.busy": "2021-04-04T18:36:46.344345Z",
     "iopub.status.idle": "2021-04-04T18:38:28.715375Z",
     "shell.execute_reply": "2021-04-04T18:38:28.714470Z"
    },
    "papermill": {
     "duration": 102.389442,
     "end_time": "2021-04-04T18:38:28.715605",
     "exception": false,
     "start_time": "2021-04-04T18:36:46.326163",
     "status": "completed"
    },
    "tags": []
   },
   "outputs": [
    {
     "name": "stdout",
     "output_type": "stream",
     "text": [
      "[nltk_data] Error loading stopwords: <urlopen error [Errno -3]\n",
      "[nltk_data]     Temporary failure in name resolution>\n",
      "[nltk_data] Error loading wordnet: <urlopen error [Errno -3] Temporary\n",
      "[nltk_data]     failure in name resolution>\n",
      "[nltk_data] Error loading punkt: <urlopen error [Errno -3] Temporary\n",
      "[nltk_data]     failure in name resolution>\n",
      "[nltk_data] Error loading averaged_perceptron_tagger: <urlopen error\n",
      "[nltk_data]     [Errno -3] Temporary failure in name resolution>\n",
      "[nltk_data] Error loading vader_lexicon: <urlopen error [Errno -3]\n",
      "[nltk_data]     Temporary failure in name resolution>\n"
     ]
    },
    {
     "name": "stderr",
     "output_type": "stream",
     "text": [
      "/opt/conda/lib/python3.7/site-packages/nltk/twitter/__init__.py:20: UserWarning: The twython library has not been installed. Some functionality from the twitter package will not be available.\n",
      "  warnings.warn(\"The twython library has not been installed. \"\n"
     ]
    }
   ],
   "source": [
    "# Plotting/Visualization\n",
    "import seaborn as sns\n",
    "import matplotlib.pyplot as plt\n",
    "\n",
    "import csv\n",
    "\n",
    "from textblob import TextBlob\n",
    "import re\n",
    "\n",
    "import nltk\n",
    "# nltk.download()\n",
    "nltk.download('stopwords')\n",
    "nltk.download('wordnet')\n",
    "nltk.download('punkt')\n",
    "nltk.download('averaged_perceptron_tagger') \n",
    "nltk.download('vader_lexicon')\n",
    "\n",
    "from nltk.tokenize import word_tokenize\n",
    "from nltk.tokenize import RegexpTokenizer\n",
    "from nltk.corpus import stopwords\n",
    "stop = stopwords.words('english')\n",
    "from nltk.stem import WordNetLemmatizer,PorterStemmer\n",
    "from nltk.sentiment.vader import SentimentIntensityAnalyzer\n",
    "\n",
    "from sklearn.model_selection import train_test_split\n",
    "from sklearn.feature_extraction.text import CountVectorizer, TfidfVectorizer\n",
    "from sklearn.naive_bayes import MultinomialNB\n",
    "from sklearn import metrics\n",
    "\n",
    "from sklearn.metrics import confusion_matrix\n",
    "from sklearn.metrics import f1_score, precision_score, recall_score, accuracy_score"
   ]
  },
  {
   "cell_type": "code",
   "execution_count": 3,
   "metadata": {
    "execution": {
     "iopub.execute_input": "2021-04-04T18:38:28.762148Z",
     "iopub.status.busy": "2021-04-04T18:38:28.761505Z",
     "iopub.status.idle": "2021-04-04T18:38:29.032040Z",
     "shell.execute_reply": "2021-04-04T18:38:29.032894Z"
    },
    "papermill": {
     "duration": 0.298751,
     "end_time": "2021-04-04T18:38:29.033085",
     "exception": false,
     "start_time": "2021-04-04T18:38:28.734334",
     "status": "completed"
    },
    "tags": []
   },
   "outputs": [
    {
     "data": {
      "text/html": [
       "<div>\n",
       "<style scoped>\n",
       "    .dataframe tbody tr th:only-of-type {\n",
       "        vertical-align: middle;\n",
       "    }\n",
       "\n",
       "    .dataframe tbody tr th {\n",
       "        vertical-align: top;\n",
       "    }\n",
       "\n",
       "    .dataframe thead th {\n",
       "        text-align: right;\n",
       "    }\n",
       "</style>\n",
       "<table border=\"1\" class=\"dataframe\">\n",
       "  <thead>\n",
       "    <tr style=\"text-align: right;\">\n",
       "      <th></th>\n",
       "      <th>ticker_name</th>\n",
       "      <th>created_at</th>\n",
       "      <th>title</th>\n",
       "      <th>text</th>\n",
       "      <th>score</th>\n",
       "      <th>Sentiment</th>\n",
       "      <th>Subjectivity</th>\n",
       "      <th>Unnamed: 7</th>\n",
       "    </tr>\n",
       "  </thead>\n",
       "  <tbody>\n",
       "    <tr>\n",
       "      <th>0</th>\n",
       "      <td>NaN</td>\n",
       "      <td>NaN</td>\n",
       "      <td>NaN</td>\n",
       "      <td>NaN</td>\n",
       "      <td>NaN</td>\n",
       "      <td>2 - positive, 1 - neutral, 0 - negative</td>\n",
       "      <td>1- Subjective(opinion), 0-objective(fact)</td>\n",
       "      <td>NaN</td>\n",
       "    </tr>\n",
       "    <tr>\n",
       "      <th>1</th>\n",
       "      <td>$GME</td>\n",
       "      <td>2021-03-18 Mar:03:1616000693</td>\n",
       "      <td>Please just make GME price fall down</td>\n",
       "      <td>So i can increase my position 4 times. \\n\\n&amp;am...</td>\n",
       "      <td>1.0</td>\n",
       "      <td>0</td>\n",
       "      <td>1</td>\n",
       "      <td>NaN</td>\n",
       "    </tr>\n",
       "    <tr>\n",
       "      <th>2</th>\n",
       "      <td>$GME</td>\n",
       "      <td>2021-03-18 Mar:03:1616000342</td>\n",
       "      <td>GME this is where we are again! hodl strong!</td>\n",
       "      <td>Steady rise followed by a huge dip and then th...</td>\n",
       "      <td>1.0</td>\n",
       "      <td>2</td>\n",
       "      <td>1</td>\n",
       "      <td>NaN</td>\n",
       "    </tr>\n",
       "    <tr>\n",
       "      <th>3</th>\n",
       "      <td>$GME</td>\n",
       "      <td>2021-03-18 Mar:03:1615999717</td>\n",
       "      <td>What is Michael Burry’s latest take on GME? Lo...</td>\n",
       "      <td>Last I checked, way back in beginning of Febru...</td>\n",
       "      <td>1.0</td>\n",
       "      <td>0</td>\n",
       "      <td>1</td>\n",
       "      <td>NaN</td>\n",
       "    </tr>\n",
       "    <tr>\n",
       "      <th>4</th>\n",
       "      <td>$GME</td>\n",
       "      <td>2021-03-18 Mar:03:1615999599</td>\n",
       "      <td>SHORT COVERING 3/17 - $GME $AMC $RKT $BB $NOK</td>\n",
       "      <td>**Short Interest report from S3 Partners updat...</td>\n",
       "      <td>1.0</td>\n",
       "      <td>2</td>\n",
       "      <td>0</td>\n",
       "      <td>NaN</td>\n",
       "    </tr>\n",
       "  </tbody>\n",
       "</table>\n",
       "</div>"
      ],
      "text/plain": [
       "  ticker_name                    created_at  \\\n",
       "0         NaN                           NaN   \n",
       "1        $GME  2021-03-18 Mar:03:1616000693   \n",
       "2        $GME  2021-03-18 Mar:03:1616000342   \n",
       "3        $GME  2021-03-18 Mar:03:1615999717   \n",
       "4        $GME  2021-03-18 Mar:03:1615999599   \n",
       "\n",
       "                                               title  \\\n",
       "0                                                NaN   \n",
       "1               Please just make GME price fall down   \n",
       "2       GME this is where we are again! hodl strong!   \n",
       "3  What is Michael Burry’s latest take on GME? Lo...   \n",
       "4      SHORT COVERING 3/17 - $GME $AMC $RKT $BB $NOK   \n",
       "\n",
       "                                                text  score  \\\n",
       "0                                                NaN    NaN   \n",
       "1  So i can increase my position 4 times. \\n\\n&am...    1.0   \n",
       "2  Steady rise followed by a huge dip and then th...    1.0   \n",
       "3  Last I checked, way back in beginning of Febru...    1.0   \n",
       "4  **Short Interest report from S3 Partners updat...    1.0   \n",
       "\n",
       "                                 Sentiment  \\\n",
       "0  2 - positive, 1 - neutral, 0 - negative   \n",
       "1                                        0   \n",
       "2                                        2   \n",
       "3                                        0   \n",
       "4                                        2   \n",
       "\n",
       "                                Subjectivity  Unnamed: 7  \n",
       "0  1- Subjective(opinion), 0-objective(fact)         NaN  \n",
       "1                                          1         NaN  \n",
       "2                                          1         NaN  \n",
       "3                                          1         NaN  \n",
       "4                                          0         NaN  "
      ]
     },
     "execution_count": 3,
     "metadata": {},
     "output_type": "execute_result"
    }
   ],
   "source": [
    "df = pd.read_csv(\"../input/main-reddit-manual-gme1616872068/MAIN_Reddit_Manual - gme1616872068.csv\")\n",
    "# df = pd.read_csv(\"../input/reddit-equal-distribution/Reddit Equal Distribution.csv\")\n",
    "df.head()"
   ]
  },
  {
   "cell_type": "code",
   "execution_count": 4,
   "metadata": {
    "execution": {
     "iopub.execute_input": "2021-04-04T18:38:29.077800Z",
     "iopub.status.busy": "2021-04-04T18:38:29.076788Z",
     "iopub.status.idle": "2021-04-04T18:38:29.097079Z",
     "shell.execute_reply": "2021-04-04T18:38:29.096431Z"
    },
    "papermill": {
     "duration": 0.043598,
     "end_time": "2021-04-04T18:38:29.097219",
     "exception": false,
     "start_time": "2021-04-04T18:38:29.053621",
     "status": "completed"
    },
    "tags": []
   },
   "outputs": [
    {
     "data": {
      "text/html": [
       "<div>\n",
       "<style scoped>\n",
       "    .dataframe tbody tr th:only-of-type {\n",
       "        vertical-align: middle;\n",
       "    }\n",
       "\n",
       "    .dataframe tbody tr th {\n",
       "        vertical-align: top;\n",
       "    }\n",
       "\n",
       "    .dataframe thead th {\n",
       "        text-align: right;\n",
       "    }\n",
       "</style>\n",
       "<table border=\"1\" class=\"dataframe\">\n",
       "  <thead>\n",
       "    <tr style=\"text-align: right;\">\n",
       "      <th></th>\n",
       "      <th>ticker_name</th>\n",
       "      <th>created_at</th>\n",
       "      <th>title</th>\n",
       "      <th>text</th>\n",
       "      <th>score</th>\n",
       "      <th>Sentiment</th>\n",
       "      <th>Subjectivity</th>\n",
       "      <th>Unnamed: 7</th>\n",
       "    </tr>\n",
       "  </thead>\n",
       "  <tbody>\n",
       "    <tr>\n",
       "      <th>1</th>\n",
       "      <td>$GME</td>\n",
       "      <td>2021-03-18 Mar:03:1616000693</td>\n",
       "      <td>Please just make GME price fall down</td>\n",
       "      <td>So i can increase my position 4 times. \\n\\n&amp;am...</td>\n",
       "      <td>1.0</td>\n",
       "      <td>0.0</td>\n",
       "      <td>1</td>\n",
       "      <td>NaN</td>\n",
       "    </tr>\n",
       "    <tr>\n",
       "      <th>2</th>\n",
       "      <td>$GME</td>\n",
       "      <td>2021-03-18 Mar:03:1616000342</td>\n",
       "      <td>GME this is where we are again! hodl strong!</td>\n",
       "      <td>Steady rise followed by a huge dip and then th...</td>\n",
       "      <td>1.0</td>\n",
       "      <td>2.0</td>\n",
       "      <td>1</td>\n",
       "      <td>NaN</td>\n",
       "    </tr>\n",
       "    <tr>\n",
       "      <th>3</th>\n",
       "      <td>$GME</td>\n",
       "      <td>2021-03-18 Mar:03:1615999717</td>\n",
       "      <td>What is Michael Burry’s latest take on GME? Lo...</td>\n",
       "      <td>Last I checked, way back in beginning of Febru...</td>\n",
       "      <td>1.0</td>\n",
       "      <td>0.0</td>\n",
       "      <td>1</td>\n",
       "      <td>NaN</td>\n",
       "    </tr>\n",
       "    <tr>\n",
       "      <th>4</th>\n",
       "      <td>$GME</td>\n",
       "      <td>2021-03-18 Mar:03:1615999599</td>\n",
       "      <td>SHORT COVERING 3/17 - $GME $AMC $RKT $BB $NOK</td>\n",
       "      <td>**Short Interest report from S3 Partners updat...</td>\n",
       "      <td>1.0</td>\n",
       "      <td>2.0</td>\n",
       "      <td>0</td>\n",
       "      <td>NaN</td>\n",
       "    </tr>\n",
       "    <tr>\n",
       "      <th>5</th>\n",
       "      <td>$GME</td>\n",
       "      <td>2021-03-18 Mar:03:1615999551</td>\n",
       "      <td>Do you think GME could go back to $40-100 of i...</td>\n",
       "      <td>Headline..</td>\n",
       "      <td>1.0</td>\n",
       "      <td>0.0</td>\n",
       "      <td>1</td>\n",
       "      <td>NaN</td>\n",
       "    </tr>\n",
       "  </tbody>\n",
       "</table>\n",
       "</div>"
      ],
      "text/plain": [
       "  ticker_name                    created_at  \\\n",
       "1        $GME  2021-03-18 Mar:03:1616000693   \n",
       "2        $GME  2021-03-18 Mar:03:1616000342   \n",
       "3        $GME  2021-03-18 Mar:03:1615999717   \n",
       "4        $GME  2021-03-18 Mar:03:1615999599   \n",
       "5        $GME  2021-03-18 Mar:03:1615999551   \n",
       "\n",
       "                                               title  \\\n",
       "1               Please just make GME price fall down   \n",
       "2       GME this is where we are again! hodl strong!   \n",
       "3  What is Michael Burry’s latest take on GME? Lo...   \n",
       "4      SHORT COVERING 3/17 - $GME $AMC $RKT $BB $NOK   \n",
       "5  Do you think GME could go back to $40-100 of i...   \n",
       "\n",
       "                                                text  score  Sentiment  \\\n",
       "1  So i can increase my position 4 times. \\n\\n&am...    1.0        0.0   \n",
       "2  Steady rise followed by a huge dip and then th...    1.0        2.0   \n",
       "3  Last I checked, way back in beginning of Febru...    1.0        0.0   \n",
       "4  **Short Interest report from S3 Partners updat...    1.0        2.0   \n",
       "5                                         Headline..    1.0        0.0   \n",
       "\n",
       "  Subjectivity  Unnamed: 7  \n",
       "1            1         NaN  \n",
       "2            1         NaN  \n",
       "3            1         NaN  \n",
       "4            0         NaN  \n",
       "5            1         NaN  "
      ]
     },
     "execution_count": 4,
     "metadata": {},
     "output_type": "execute_result"
    }
   ],
   "source": [
    "df = df.iloc[1:]\n",
    "df['Sentiment'] = df['Sentiment'].astype(float)\n",
    "df.head()"
   ]
  },
  {
   "cell_type": "markdown",
   "metadata": {
    "papermill": {
     "duration": 0.01918,
     "end_time": "2021-04-04T18:38:29.135438",
     "exception": false,
     "start_time": "2021-04-04T18:38:29.116258",
     "status": "completed"
    },
    "tags": []
   },
   "source": [
    "# Preprocessing"
   ]
  },
  {
   "cell_type": "code",
   "execution_count": 5,
   "metadata": {
    "execution": {
     "iopub.execute_input": "2021-04-04T18:38:29.200505Z",
     "iopub.status.busy": "2021-04-04T18:38:29.199756Z",
     "iopub.status.idle": "2021-04-04T18:38:29.203743Z",
     "shell.execute_reply": "2021-04-04T18:38:29.204788Z"
    },
    "papermill": {
     "duration": 0.048853,
     "end_time": "2021-04-04T18:38:29.204974",
     "exception": false,
     "start_time": "2021-04-04T18:38:29.156121",
     "status": "completed"
    },
    "tags": []
   },
   "outputs": [
    {
     "name": "stdout",
     "output_type": "stream",
     "text": [
      "<class 'pandas.core.frame.DataFrame'>\n",
      "RangeIndex: 4984 entries, 1 to 4984\n",
      "Data columns (total 8 columns):\n",
      " #   Column        Non-Null Count  Dtype  \n",
      "---  ------        --------------  -----  \n",
      " 0   ticker_name   4984 non-null   object \n",
      " 1   created_at    4984 non-null   object \n",
      " 2   title         4984 non-null   object \n",
      " 3   text          4828 non-null   object \n",
      " 4   score         4984 non-null   float64\n",
      " 5   Sentiment     4963 non-null   float64\n",
      " 6   Subjectivity  4960 non-null   object \n",
      " 7   Unnamed: 7    1 non-null      float64\n",
      "dtypes: float64(3), object(5)\n",
      "memory usage: 311.6+ KB\n"
     ]
    }
   ],
   "source": [
    "df.info()"
   ]
  },
  {
   "cell_type": "code",
   "execution_count": 6,
   "metadata": {
    "execution": {
     "iopub.execute_input": "2021-04-04T18:38:29.249649Z",
     "iopub.status.busy": "2021-04-04T18:38:29.249005Z",
     "iopub.status.idle": "2021-04-04T18:38:29.292272Z",
     "shell.execute_reply": "2021-04-04T18:38:29.291601Z"
    },
    "papermill": {
     "duration": 0.066457,
     "end_time": "2021-04-04T18:38:29.292434",
     "exception": false,
     "start_time": "2021-04-04T18:38:29.225977",
     "status": "completed"
    },
    "tags": []
   },
   "outputs": [
    {
     "data": {
      "text/html": [
       "<div>\n",
       "<style scoped>\n",
       "    .dataframe tbody tr th:only-of-type {\n",
       "        vertical-align: middle;\n",
       "    }\n",
       "\n",
       "    .dataframe tbody tr th {\n",
       "        vertical-align: top;\n",
       "    }\n",
       "\n",
       "    .dataframe thead th {\n",
       "        text-align: right;\n",
       "    }\n",
       "</style>\n",
       "<table border=\"1\" class=\"dataframe\">\n",
       "  <thead>\n",
       "    <tr style=\"text-align: right;\">\n",
       "      <th></th>\n",
       "      <th>ticker_name</th>\n",
       "      <th>title</th>\n",
       "      <th>text</th>\n",
       "      <th>Sentiment</th>\n",
       "      <th>Subjectivity</th>\n",
       "    </tr>\n",
       "  </thead>\n",
       "  <tbody>\n",
       "    <tr>\n",
       "      <th>1</th>\n",
       "      <td>$GME</td>\n",
       "      <td>Please just make GME price fall down</td>\n",
       "      <td>So i can increase my position 4 times. \\n\\n&amp;am...</td>\n",
       "      <td>0.0</td>\n",
       "      <td>1</td>\n",
       "    </tr>\n",
       "    <tr>\n",
       "      <th>2</th>\n",
       "      <td>$GME</td>\n",
       "      <td>GME this is where we are again! hodl strong!</td>\n",
       "      <td>Steady rise followed by a huge dip and then th...</td>\n",
       "      <td>2.0</td>\n",
       "      <td>1</td>\n",
       "    </tr>\n",
       "    <tr>\n",
       "      <th>3</th>\n",
       "      <td>$GME</td>\n",
       "      <td>What is Michael Burry’s latest take on GME? Lo...</td>\n",
       "      <td>Last I checked, way back in beginning of Febru...</td>\n",
       "      <td>0.0</td>\n",
       "      <td>1</td>\n",
       "    </tr>\n",
       "    <tr>\n",
       "      <th>4</th>\n",
       "      <td>$GME</td>\n",
       "      <td>SHORT COVERING 3/17 - $GME $AMC $RKT $BB $NOK</td>\n",
       "      <td>**Short Interest report from S3 Partners updat...</td>\n",
       "      <td>2.0</td>\n",
       "      <td>0</td>\n",
       "    </tr>\n",
       "    <tr>\n",
       "      <th>5</th>\n",
       "      <td>$GME</td>\n",
       "      <td>Do you think GME could go back to $40-100 of i...</td>\n",
       "      <td>Headline..</td>\n",
       "      <td>0.0</td>\n",
       "      <td>1</td>\n",
       "    </tr>\n",
       "    <tr>\n",
       "      <th>...</th>\n",
       "      <td>...</td>\n",
       "      <td>...</td>\n",
       "      <td>...</td>\n",
       "      <td>...</td>\n",
       "      <td>...</td>\n",
       "    </tr>\n",
       "    <tr>\n",
       "      <th>4980</th>\n",
       "      <td>$APPL</td>\n",
       "      <td>UOA Hilton HLT</td>\n",
       "      <td>11,248 puts for Hilton Worldwide Holding with ...</td>\n",
       "      <td>1.0</td>\n",
       "      <td>1</td>\n",
       "    </tr>\n",
       "    <tr>\n",
       "      <th>4981</th>\n",
       "      <td>$APPL</td>\n",
       "      <td>UOA for Hilton Worldwide Holdings</td>\n",
       "      <td>11,248 puts for Hilton Worldwide Holding with ...</td>\n",
       "      <td>1.0</td>\n",
       "      <td>1</td>\n",
       "    </tr>\n",
       "    <tr>\n",
       "      <th>4982</th>\n",
       "      <td>$APPL</td>\n",
       "      <td>UOA for Hilton Worldwide Holdings</td>\n",
       "      <td>11,248 puts for Hilton Worldwide Holding with ...</td>\n",
       "      <td>1.0</td>\n",
       "      <td>1</td>\n",
       "    </tr>\n",
       "    <tr>\n",
       "      <th>4983</th>\n",
       "      <td>$APPL</td>\n",
       "      <td>UOA for Hilton Worldwide Holdings</td>\n",
       "      <td>11,248 puts for Hilton Worldwide Holding with ...</td>\n",
       "      <td>1.0</td>\n",
       "      <td>1</td>\n",
       "    </tr>\n",
       "    <tr>\n",
       "      <th>4984</th>\n",
       "      <td>$APPL</td>\n",
       "      <td>Why the Economy is not the stock market.</td>\n",
       "      <td>Why the economy is not the stock market.\\n\\nMo...</td>\n",
       "      <td>1.0</td>\n",
       "      <td>0</td>\n",
       "    </tr>\n",
       "  </tbody>\n",
       "</table>\n",
       "<p>4963 rows × 5 columns</p>\n",
       "</div>"
      ],
      "text/plain": [
       "     ticker_name                                              title  \\\n",
       "1           $GME               Please just make GME price fall down   \n",
       "2           $GME       GME this is where we are again! hodl strong!   \n",
       "3           $GME  What is Michael Burry’s latest take on GME? Lo...   \n",
       "4           $GME      SHORT COVERING 3/17 - $GME $AMC $RKT $BB $NOK   \n",
       "5           $GME  Do you think GME could go back to $40-100 of i...   \n",
       "...          ...                                                ...   \n",
       "4980       $APPL                                     UOA Hilton HLT   \n",
       "4981       $APPL                  UOA for Hilton Worldwide Holdings   \n",
       "4982       $APPL                  UOA for Hilton Worldwide Holdings   \n",
       "4983       $APPL                  UOA for Hilton Worldwide Holdings   \n",
       "4984       $APPL           Why the Economy is not the stock market.   \n",
       "\n",
       "                                                   text  Sentiment  \\\n",
       "1     So i can increase my position 4 times. \\n\\n&am...        0.0   \n",
       "2     Steady rise followed by a huge dip and then th...        2.0   \n",
       "3     Last I checked, way back in beginning of Febru...        0.0   \n",
       "4     **Short Interest report from S3 Partners updat...        2.0   \n",
       "5                                            Headline..        0.0   \n",
       "...                                                 ...        ...   \n",
       "4980  11,248 puts for Hilton Worldwide Holding with ...        1.0   \n",
       "4981  11,248 puts for Hilton Worldwide Holding with ...        1.0   \n",
       "4982  11,248 puts for Hilton Worldwide Holding with ...        1.0   \n",
       "4983  11,248 puts for Hilton Worldwide Holding with ...        1.0   \n",
       "4984  Why the economy is not the stock market.\\n\\nMo...        1.0   \n",
       "\n",
       "     Subjectivity  \n",
       "1               1  \n",
       "2               1  \n",
       "3               1  \n",
       "4               0  \n",
       "5               1  \n",
       "...           ...  \n",
       "4980            1  \n",
       "4981            1  \n",
       "4982            1  \n",
       "4983            1  \n",
       "4984            0  \n",
       "\n",
       "[4963 rows x 5 columns]"
      ]
     },
     "execution_count": 6,
     "metadata": {},
     "output_type": "execute_result"
    }
   ],
   "source": [
    "df = df.drop(['created_at','score','Unnamed: 7'], axis = 1)\n",
    "df.dropna(subset=['Sentiment'], inplace=True)\n",
    "df"
   ]
  },
  {
   "cell_type": "code",
   "execution_count": 7,
   "metadata": {
    "execution": {
     "iopub.execute_input": "2021-04-04T18:38:29.345003Z",
     "iopub.status.busy": "2021-04-04T18:38:29.344244Z",
     "iopub.status.idle": "2021-04-04T18:38:50.870376Z",
     "shell.execute_reply": "2021-04-04T18:38:50.869646Z"
    },
    "papermill": {
     "duration": 21.557852,
     "end_time": "2021-04-04T18:38:50.870526",
     "exception": false,
     "start_time": "2021-04-04T18:38:29.312674",
     "status": "completed"
    },
    "tags": []
   },
   "outputs": [],
   "source": [
    "lemmatizer = WordNetLemmatizer()\n",
    "stemmer = PorterStemmer()\n",
    "\n",
    "def preprocess(text):\n",
    "    text = str(text)\n",
    "    text = text.lower()\n",
    "    text = text.replace('{html}',\"\") \n",
    "    cleanr = re.compile('<.*?>')\n",
    "    cleantext = re.sub(cleanr, '', text)\n",
    "    rem_url=re.sub(r'http\\S+', '',cleantext)\n",
    "    rem_num = re.sub('[0-9]+', '', rem_url)\n",
    "    rem_tweet = re.sub('@[^\\s]+','',rem_num)\n",
    "    tokenizer = RegexpTokenizer(r'\\w+')\n",
    "    tokens = tokenizer.tokenize(rem_tweet)  \n",
    "    filtered_words = [w for w in tokens if len(w) > 2 if not w in stop]\n",
    "    stem_words=[stemmer.stem(w) for w in filtered_words]\n",
    "    lemma_words=[lemmatizer.lemmatize(w) for w in stem_words]\n",
    "    return \" \".join(filtered_words)\n",
    "\n",
    "df['cleanText'] = df['text'].apply(preprocess)"
   ]
  },
  {
   "cell_type": "code",
   "execution_count": 8,
   "metadata": {
    "execution": {
     "iopub.execute_input": "2021-04-04T18:38:50.920181Z",
     "iopub.status.busy": "2021-04-04T18:38:50.919108Z",
     "iopub.status.idle": "2021-04-04T18:38:50.923052Z",
     "shell.execute_reply": "2021-04-04T18:38:50.922432Z"
    },
    "papermill": {
     "duration": 0.031693,
     "end_time": "2021-04-04T18:38:50.923189",
     "exception": false,
     "start_time": "2021-04-04T18:38:50.891496",
     "status": "completed"
    },
    "tags": []
   },
   "outputs": [
    {
     "data": {
      "text/plain": [
       "1       increase position times amp amp positions shar...\n",
       "2       steady rise followed huge dip rocket takes loa...\n",
       "3       last checked way back beginning february sayin...\n",
       "4       short interest report partners update march br...\n",
       "5                                                headline\n",
       "                              ...                        \n",
       "4980    puts hilton worldwide holding strike price may...\n",
       "4981    puts hilton worldwide holding strike price may...\n",
       "4982    puts hilton worldwide holding strike price may...\n",
       "4983    puts hilton worldwide holding strike price may...\n",
       "4984    economy stock market time come sub see people ...\n",
       "Name: cleanText, Length: 4963, dtype: object"
      ]
     },
     "execution_count": 8,
     "metadata": {},
     "output_type": "execute_result"
    }
   ],
   "source": [
    "df_cleanText = df['cleanText']\n",
    "df_cleanText"
   ]
  },
  {
   "cell_type": "code",
   "execution_count": 9,
   "metadata": {
    "execution": {
     "iopub.execute_input": "2021-04-04T18:38:50.968518Z",
     "iopub.status.busy": "2021-04-04T18:38:50.967784Z",
     "iopub.status.idle": "2021-04-04T18:38:50.982000Z",
     "shell.execute_reply": "2021-04-04T18:38:50.982504Z"
    },
    "papermill": {
     "duration": 0.038629,
     "end_time": "2021-04-04T18:38:50.982695",
     "exception": false,
     "start_time": "2021-04-04T18:38:50.944066",
     "status": "completed"
    },
    "tags": []
   },
   "outputs": [
    {
     "data": {
      "text/html": [
       "<div>\n",
       "<style scoped>\n",
       "    .dataframe tbody tr th:only-of-type {\n",
       "        vertical-align: middle;\n",
       "    }\n",
       "\n",
       "    .dataframe tbody tr th {\n",
       "        vertical-align: top;\n",
       "    }\n",
       "\n",
       "    .dataframe thead th {\n",
       "        text-align: right;\n",
       "    }\n",
       "</style>\n",
       "<table border=\"1\" class=\"dataframe\">\n",
       "  <thead>\n",
       "    <tr style=\"text-align: right;\">\n",
       "      <th></th>\n",
       "      <th>ticker_name</th>\n",
       "      <th>title</th>\n",
       "      <th>text</th>\n",
       "      <th>Sentiment</th>\n",
       "      <th>Subjectivity</th>\n",
       "      <th>cleanText</th>\n",
       "    </tr>\n",
       "  </thead>\n",
       "  <tbody>\n",
       "    <tr>\n",
       "      <th>1</th>\n",
       "      <td>$GME</td>\n",
       "      <td>Please just make GME price fall down</td>\n",
       "      <td>So i can increase my position 4 times. \\n\\n&amp;am...</td>\n",
       "      <td>0.0</td>\n",
       "      <td>1</td>\n",
       "      <td>increase position times amp amp positions shar...</td>\n",
       "    </tr>\n",
       "    <tr>\n",
       "      <th>2</th>\n",
       "      <td>$GME</td>\n",
       "      <td>GME this is where we are again! hodl strong!</td>\n",
       "      <td>Steady rise followed by a huge dip and then th...</td>\n",
       "      <td>2.0</td>\n",
       "      <td>1</td>\n",
       "      <td>steady rise followed huge dip rocket takes loa...</td>\n",
       "    </tr>\n",
       "    <tr>\n",
       "      <th>3</th>\n",
       "      <td>$GME</td>\n",
       "      <td>What is Michael Burry’s latest take on GME? Lo...</td>\n",
       "      <td>Last I checked, way back in beginning of Febru...</td>\n",
       "      <td>0.0</td>\n",
       "      <td>1</td>\n",
       "      <td>last checked way back beginning february sayin...</td>\n",
       "    </tr>\n",
       "    <tr>\n",
       "      <th>4</th>\n",
       "      <td>$GME</td>\n",
       "      <td>SHORT COVERING 3/17 - $GME $AMC $RKT $BB $NOK</td>\n",
       "      <td>**Short Interest report from S3 Partners updat...</td>\n",
       "      <td>2.0</td>\n",
       "      <td>0</td>\n",
       "      <td>short interest report partners update march br...</td>\n",
       "    </tr>\n",
       "    <tr>\n",
       "      <th>5</th>\n",
       "      <td>$GME</td>\n",
       "      <td>Do you think GME could go back to $40-100 of i...</td>\n",
       "      <td>Headline..</td>\n",
       "      <td>0.0</td>\n",
       "      <td>1</td>\n",
       "      <td>headline</td>\n",
       "    </tr>\n",
       "  </tbody>\n",
       "</table>\n",
       "</div>"
      ],
      "text/plain": [
       "  ticker_name                                              title  \\\n",
       "1        $GME               Please just make GME price fall down   \n",
       "2        $GME       GME this is where we are again! hodl strong!   \n",
       "3        $GME  What is Michael Burry’s latest take on GME? Lo...   \n",
       "4        $GME      SHORT COVERING 3/17 - $GME $AMC $RKT $BB $NOK   \n",
       "5        $GME  Do you think GME could go back to $40-100 of i...   \n",
       "\n",
       "                                                text  Sentiment Subjectivity  \\\n",
       "1  So i can increase my position 4 times. \\n\\n&am...        0.0            1   \n",
       "2  Steady rise followed by a huge dip and then th...        2.0            1   \n",
       "3  Last I checked, way back in beginning of Febru...        0.0            1   \n",
       "4  **Short Interest report from S3 Partners updat...        2.0            0   \n",
       "5                                         Headline..        0.0            1   \n",
       "\n",
       "                                           cleanText  \n",
       "1  increase position times amp amp positions shar...  \n",
       "2  steady rise followed huge dip rocket takes loa...  \n",
       "3  last checked way back beginning february sayin...  \n",
       "4  short interest report partners update march br...  \n",
       "5                                           headline  "
      ]
     },
     "execution_count": 9,
     "metadata": {},
     "output_type": "execute_result"
    }
   ],
   "source": [
    "df.head()"
   ]
  },
  {
   "cell_type": "markdown",
   "metadata": {
    "papermill": {
     "duration": 0.021479,
     "end_time": "2021-04-04T18:38:51.026109",
     "exception": false,
     "start_time": "2021-04-04T18:38:51.004630",
     "status": "completed"
    },
    "tags": []
   },
   "source": [
    "# Classification\n",
    "\n",
    "## VADER"
   ]
  },
  {
   "cell_type": "code",
   "execution_count": 10,
   "metadata": {
    "execution": {
     "iopub.execute_input": "2021-04-04T18:38:51.073586Z",
     "iopub.status.busy": "2021-04-04T18:38:51.072810Z",
     "iopub.status.idle": "2021-04-04T18:39:49.679986Z",
     "shell.execute_reply": "2021-04-04T18:39:49.679398Z"
    },
    "papermill": {
     "duration": 58.63226,
     "end_time": "2021-04-04T18:39:49.680185",
     "exception": false,
     "start_time": "2021-04-04T18:38:51.047925",
     "status": "completed"
    },
    "tags": []
   },
   "outputs": [],
   "source": [
    "def VADER(sentence):\n",
    "    VADER_sentence = str(sentence)\n",
    "    VADER_analyser = SentimentIntensityAnalyzer()\n",
    "    \n",
    "    \n",
    "    score = VADER_analyser.polarity_scores(VADER_sentence)\n",
    "    VADER_answer = score['compound']\n",
    "    if(VADER_answer>0):\n",
    "        return_rating = 2\n",
    "    elif(VADER_answer<0):\n",
    "        return_rating = 0\n",
    "    else:\n",
    "        return_rating = 1\n",
    "    return return_rating\n",
    "    \n",
    "\n",
    "df['VADER'] = df['text'].map(lambda s:VADER(s)) "
   ]
  },
  {
   "cell_type": "code",
   "execution_count": 11,
   "metadata": {
    "execution": {
     "iopub.execute_input": "2021-04-04T18:39:49.747272Z",
     "iopub.status.busy": "2021-04-04T18:39:49.746608Z",
     "iopub.status.idle": "2021-04-04T18:39:49.752429Z",
     "shell.execute_reply": "2021-04-04T18:39:49.751331Z"
    },
    "papermill": {
     "duration": 0.05025,
     "end_time": "2021-04-04T18:39:49.752590",
     "exception": false,
     "start_time": "2021-04-04T18:39:49.702340",
     "status": "completed"
    },
    "tags": []
   },
   "outputs": [
    {
     "data": {
      "text/html": [
       "<div>\n",
       "<style scoped>\n",
       "    .dataframe tbody tr th:only-of-type {\n",
       "        vertical-align: middle;\n",
       "    }\n",
       "\n",
       "    .dataframe tbody tr th {\n",
       "        vertical-align: top;\n",
       "    }\n",
       "\n",
       "    .dataframe thead th {\n",
       "        text-align: right;\n",
       "    }\n",
       "</style>\n",
       "<table border=\"1\" class=\"dataframe\">\n",
       "  <thead>\n",
       "    <tr style=\"text-align: right;\">\n",
       "      <th></th>\n",
       "      <th>ticker_name</th>\n",
       "      <th>title</th>\n",
       "      <th>text</th>\n",
       "      <th>Sentiment</th>\n",
       "      <th>Subjectivity</th>\n",
       "      <th>cleanText</th>\n",
       "      <th>VADER</th>\n",
       "    </tr>\n",
       "  </thead>\n",
       "  <tbody>\n",
       "    <tr>\n",
       "      <th>1</th>\n",
       "      <td>$GME</td>\n",
       "      <td>Please just make GME price fall down</td>\n",
       "      <td>So i can increase my position 4 times. \\n\\n&amp;am...</td>\n",
       "      <td>0.0</td>\n",
       "      <td>1</td>\n",
       "      <td>increase position times amp amp positions shar...</td>\n",
       "      <td>2</td>\n",
       "    </tr>\n",
       "    <tr>\n",
       "      <th>2</th>\n",
       "      <td>$GME</td>\n",
       "      <td>GME this is where we are again! hodl strong!</td>\n",
       "      <td>Steady rise followed by a huge dip and then th...</td>\n",
       "      <td>2.0</td>\n",
       "      <td>1</td>\n",
       "      <td>steady rise followed huge dip rocket takes loa...</td>\n",
       "      <td>2</td>\n",
       "    </tr>\n",
       "    <tr>\n",
       "      <th>3</th>\n",
       "      <td>$GME</td>\n",
       "      <td>What is Michael Burry’s latest take on GME? Lo...</td>\n",
       "      <td>Last I checked, way back in beginning of Febru...</td>\n",
       "      <td>0.0</td>\n",
       "      <td>1</td>\n",
       "      <td>last checked way back beginning february sayin...</td>\n",
       "      <td>1</td>\n",
       "    </tr>\n",
       "    <tr>\n",
       "      <th>4</th>\n",
       "      <td>$GME</td>\n",
       "      <td>SHORT COVERING 3/17 - $GME $AMC $RKT $BB $NOK</td>\n",
       "      <td>**Short Interest report from S3 Partners updat...</td>\n",
       "      <td>2.0</td>\n",
       "      <td>0</td>\n",
       "      <td>short interest report partners update march br...</td>\n",
       "      <td>2</td>\n",
       "    </tr>\n",
       "    <tr>\n",
       "      <th>5</th>\n",
       "      <td>$GME</td>\n",
       "      <td>Do you think GME could go back to $40-100 of i...</td>\n",
       "      <td>Headline..</td>\n",
       "      <td>0.0</td>\n",
       "      <td>1</td>\n",
       "      <td>headline</td>\n",
       "      <td>1</td>\n",
       "    </tr>\n",
       "    <tr>\n",
       "      <th>...</th>\n",
       "      <td>...</td>\n",
       "      <td>...</td>\n",
       "      <td>...</td>\n",
       "      <td>...</td>\n",
       "      <td>...</td>\n",
       "      <td>...</td>\n",
       "      <td>...</td>\n",
       "    </tr>\n",
       "    <tr>\n",
       "      <th>4980</th>\n",
       "      <td>$APPL</td>\n",
       "      <td>UOA Hilton HLT</td>\n",
       "      <td>11,248 puts for Hilton Worldwide Holding with ...</td>\n",
       "      <td>1.0</td>\n",
       "      <td>1</td>\n",
       "      <td>puts hilton worldwide holding strike price may...</td>\n",
       "      <td>2</td>\n",
       "    </tr>\n",
       "    <tr>\n",
       "      <th>4981</th>\n",
       "      <td>$APPL</td>\n",
       "      <td>UOA for Hilton Worldwide Holdings</td>\n",
       "      <td>11,248 puts for Hilton Worldwide Holding with ...</td>\n",
       "      <td>1.0</td>\n",
       "      <td>1</td>\n",
       "      <td>puts hilton worldwide holding strike price may...</td>\n",
       "      <td>2</td>\n",
       "    </tr>\n",
       "    <tr>\n",
       "      <th>4982</th>\n",
       "      <td>$APPL</td>\n",
       "      <td>UOA for Hilton Worldwide Holdings</td>\n",
       "      <td>11,248 puts for Hilton Worldwide Holding with ...</td>\n",
       "      <td>1.0</td>\n",
       "      <td>1</td>\n",
       "      <td>puts hilton worldwide holding strike price may...</td>\n",
       "      <td>2</td>\n",
       "    </tr>\n",
       "    <tr>\n",
       "      <th>4983</th>\n",
       "      <td>$APPL</td>\n",
       "      <td>UOA for Hilton Worldwide Holdings</td>\n",
       "      <td>11,248 puts for Hilton Worldwide Holding with ...</td>\n",
       "      <td>1.0</td>\n",
       "      <td>1</td>\n",
       "      <td>puts hilton worldwide holding strike price may...</td>\n",
       "      <td>2</td>\n",
       "    </tr>\n",
       "    <tr>\n",
       "      <th>4984</th>\n",
       "      <td>$APPL</td>\n",
       "      <td>Why the Economy is not the stock market.</td>\n",
       "      <td>Why the economy is not the stock market.\\n\\nMo...</td>\n",
       "      <td>1.0</td>\n",
       "      <td>0</td>\n",
       "      <td>economy stock market time come sub see people ...</td>\n",
       "      <td>0</td>\n",
       "    </tr>\n",
       "  </tbody>\n",
       "</table>\n",
       "<p>4963 rows × 7 columns</p>\n",
       "</div>"
      ],
      "text/plain": [
       "     ticker_name                                              title  \\\n",
       "1           $GME               Please just make GME price fall down   \n",
       "2           $GME       GME this is where we are again! hodl strong!   \n",
       "3           $GME  What is Michael Burry’s latest take on GME? Lo...   \n",
       "4           $GME      SHORT COVERING 3/17 - $GME $AMC $RKT $BB $NOK   \n",
       "5           $GME  Do you think GME could go back to $40-100 of i...   \n",
       "...          ...                                                ...   \n",
       "4980       $APPL                                     UOA Hilton HLT   \n",
       "4981       $APPL                  UOA for Hilton Worldwide Holdings   \n",
       "4982       $APPL                  UOA for Hilton Worldwide Holdings   \n",
       "4983       $APPL                  UOA for Hilton Worldwide Holdings   \n",
       "4984       $APPL           Why the Economy is not the stock market.   \n",
       "\n",
       "                                                   text  Sentiment  \\\n",
       "1     So i can increase my position 4 times. \\n\\n&am...        0.0   \n",
       "2     Steady rise followed by a huge dip and then th...        2.0   \n",
       "3     Last I checked, way back in beginning of Febru...        0.0   \n",
       "4     **Short Interest report from S3 Partners updat...        2.0   \n",
       "5                                            Headline..        0.0   \n",
       "...                                                 ...        ...   \n",
       "4980  11,248 puts for Hilton Worldwide Holding with ...        1.0   \n",
       "4981  11,248 puts for Hilton Worldwide Holding with ...        1.0   \n",
       "4982  11,248 puts for Hilton Worldwide Holding with ...        1.0   \n",
       "4983  11,248 puts for Hilton Worldwide Holding with ...        1.0   \n",
       "4984  Why the economy is not the stock market.\\n\\nMo...        1.0   \n",
       "\n",
       "     Subjectivity                                          cleanText  VADER  \n",
       "1               1  increase position times amp amp positions shar...      2  \n",
       "2               1  steady rise followed huge dip rocket takes loa...      2  \n",
       "3               1  last checked way back beginning february sayin...      1  \n",
       "4               0  short interest report partners update march br...      2  \n",
       "5               1                                           headline      1  \n",
       "...           ...                                                ...    ...  \n",
       "4980            1  puts hilton worldwide holding strike price may...      2  \n",
       "4981            1  puts hilton worldwide holding strike price may...      2  \n",
       "4982            1  puts hilton worldwide holding strike price may...      2  \n",
       "4983            1  puts hilton worldwide holding strike price may...      2  \n",
       "4984            0  economy stock market time come sub see people ...      0  \n",
       "\n",
       "[4963 rows x 7 columns]"
      ]
     },
     "execution_count": 11,
     "metadata": {},
     "output_type": "execute_result"
    }
   ],
   "source": [
    "df"
   ]
  },
  {
   "cell_type": "markdown",
   "metadata": {
    "papermill": {
     "duration": 0.02224,
     "end_time": "2021-04-04T18:39:49.799241",
     "exception": false,
     "start_time": "2021-04-04T18:39:49.777001",
     "status": "completed"
    },
    "tags": []
   },
   "source": [
    "# Comparing VADER against manual label"
   ]
  },
  {
   "cell_type": "code",
   "execution_count": 12,
   "metadata": {
    "execution": {
     "iopub.execute_input": "2021-04-04T18:39:49.851248Z",
     "iopub.status.busy": "2021-04-04T18:39:49.850439Z",
     "iopub.status.idle": "2021-04-04T18:39:49.853353Z",
     "shell.execute_reply": "2021-04-04T18:39:49.853877Z"
    },
    "papermill": {
     "duration": 0.032253,
     "end_time": "2021-04-04T18:39:49.854068",
     "exception": false,
     "start_time": "2021-04-04T18:39:49.821815",
     "status": "completed"
    },
    "tags": []
   },
   "outputs": [],
   "source": [
    "y_true=pd.Series(df['Sentiment']).array\n",
    "y_pred = pd.Series(df['VADER']).array"
   ]
  },
  {
   "cell_type": "code",
   "execution_count": 13,
   "metadata": {
    "execution": {
     "iopub.execute_input": "2021-04-04T18:39:49.904476Z",
     "iopub.status.busy": "2021-04-04T18:39:49.903831Z",
     "iopub.status.idle": "2021-04-04T18:39:49.920690Z",
     "shell.execute_reply": "2021-04-04T18:39:49.920005Z"
    },
    "papermill": {
     "duration": 0.043482,
     "end_time": "2021-04-04T18:39:49.920831",
     "exception": false,
     "start_time": "2021-04-04T18:39:49.877349",
     "status": "completed"
    },
    "tags": []
   },
   "outputs": [
    {
     "data": {
      "text/plain": [
       "array([[  35,   60,   53],\n",
       "       [ 652, 1980, 1794],\n",
       "       [  33,  231,  125]])"
      ]
     },
     "execution_count": 13,
     "metadata": {},
     "output_type": "execute_result"
    }
   ],
   "source": [
    "cm = confusion_matrix(y_true, y_pred)\n",
    "cm"
   ]
  },
  {
   "cell_type": "code",
   "execution_count": 14,
   "metadata": {
    "execution": {
     "iopub.execute_input": "2021-04-04T18:39:50.000076Z",
     "iopub.status.busy": "2021-04-04T18:39:49.998146Z",
     "iopub.status.idle": "2021-04-04T18:39:50.249848Z",
     "shell.execute_reply": "2021-04-04T18:39:50.249267Z"
    },
    "papermill": {
     "duration": 0.306309,
     "end_time": "2021-04-04T18:39:50.249987",
     "exception": false,
     "start_time": "2021-04-04T18:39:49.943678",
     "status": "completed"
    },
    "tags": []
   },
   "outputs": [
    {
     "data": {
      "image/png": "[encoded data removed]",
      "text/plain": [
       "<Figure size 432x288 with 2 Axes>"
      ]
     },
     "metadata": {
      "needs_background": "light"
     },
     "output_type": "display_data"
    }
   ],
   "source": [
    "fig = plt.figure()\n",
    "sns.heatmap(cm, annot = True, fmt='d')\n",
    "plt.title(\"Confusion matrix of VADER vs Manual Label for Reddit\")\n",
    "plt.xlabel('Predicted')\n",
    "plt.ylabel('Actual')\n",
    "plt.show()"
   ]
  },
  {
   "cell_type": "code",
   "execution_count": 15,
   "metadata": {
    "execution": {
     "iopub.execute_input": "2021-04-04T18:39:50.305044Z",
     "iopub.status.busy": "2021-04-04T18:39:50.304385Z",
     "iopub.status.idle": "2021-04-04T18:39:50.318602Z",
     "shell.execute_reply": "2021-04-04T18:39:50.318040Z"
    },
    "papermill": {
     "duration": 0.044409,
     "end_time": "2021-04-04T18:39:50.318742",
     "exception": false,
     "start_time": "2021-04-04T18:39:50.274333",
     "status": "completed"
    },
    "tags": []
   },
   "outputs": [
    {
     "name": "stdout",
     "output_type": "stream",
     "text": [
      "Accuracy: 43.12%\n",
      "F1-score: 0.259\n",
      "Precision Score: 0.328\n",
      "Recall Score: 0.335\n"
     ]
    }
   ],
   "source": [
    "accuracy = accuracy_score(y_true, y_pred)\n",
    "f1Score = f1_score(y_true, y_pred, average='macro')\n",
    "precisionScore = precision_score(y_true, y_pred, average='macro')\n",
    "recallScore = recall_score(y_true, y_pred, average='macro')\n",
    "\n",
    "print(\"Accuracy: {}%\\nF1-score: {}\\nPrecision Score: {}\\nRecall Score: {}\".format(f'{accuracy*100:.2f}', f'{f1Score:.3f}', f'{precisionScore:.3f}', f'{recallScore:.3f}'))"
   ]
  },
  {
   "cell_type": "markdown",
   "metadata": {
    "papermill": {
     "duration": 0.024501,
     "end_time": "2021-04-04T18:39:50.368175",
     "exception": false,
     "start_time": "2021-04-04T18:39:50.343674",
     "status": "completed"
    },
    "tags": []
   },
   "source": [
    "# Naive Bayes Classifier"
   ]
  },
  {
   "cell_type": "code",
   "execution_count": 16,
   "metadata": {
    "execution": {
     "iopub.execute_input": "2021-04-04T18:39:50.424614Z",
     "iopub.status.busy": "2021-04-04T18:39:50.423708Z",
     "iopub.status.idle": "2021-04-04T18:39:50.432007Z",
     "shell.execute_reply": "2021-04-04T18:39:50.431206Z"
    },
    "papermill": {
     "duration": 0.039165,
     "end_time": "2021-04-04T18:39:50.432156",
     "exception": false,
     "start_time": "2021-04-04T18:39:50.392991",
     "status": "completed"
    },
    "tags": []
   },
   "outputs": [],
   "source": [
    "x_train, x_test, y_train, y_test = train_test_split(df[['cleanText']], \n",
    "                                                    df['Sentiment'], \n",
    "                                                    test_size=0.2, \n",
    "                                                    random_state=0)"
   ]
  },
  {
   "cell_type": "code",
   "execution_count": 17,
   "metadata": {
    "execution": {
     "iopub.execute_input": "2021-04-04T18:39:50.502811Z",
     "iopub.status.busy": "2021-04-04T18:39:50.496898Z",
     "iopub.status.idle": "2021-04-04T18:39:52.436278Z",
     "shell.execute_reply": "2021-04-04T18:39:52.435632Z"
    },
    "papermill": {
     "duration": 1.979245,
     "end_time": "2021-04-04T18:39:52.436449",
     "exception": false,
     "start_time": "2021-04-04T18:39:50.457204",
     "status": "completed"
    },
    "tags": []
   },
   "outputs": [],
   "source": [
    "vectorizer = CountVectorizer(ngram_range=(1,2))\n",
    "cv = vectorizer.fit_transform(x_train['cleanText'])"
   ]
  },
  {
   "cell_type": "code",
   "execution_count": 18,
   "metadata": {
    "execution": {
     "iopub.execute_input": "2021-04-04T18:39:52.494248Z",
     "iopub.status.busy": "2021-04-04T18:39:52.493561Z",
     "iopub.status.idle": "2021-04-04T18:39:52.530436Z",
     "shell.execute_reply": "2021-04-04T18:39:52.529810Z"
    },
    "papermill": {
     "duration": 0.069447,
     "end_time": "2021-04-04T18:39:52.530598",
     "exception": false,
     "start_time": "2021-04-04T18:39:52.461151",
     "status": "completed"
    },
    "tags": []
   },
   "outputs": [],
   "source": [
    "clf = MultinomialNB().fit(cv, y_train)"
   ]
  },
  {
   "cell_type": "code",
   "execution_count": 19,
   "metadata": {
    "execution": {
     "iopub.execute_input": "2021-04-04T18:39:52.596634Z",
     "iopub.status.busy": "2021-04-04T18:39:52.591053Z",
     "iopub.status.idle": "2021-04-04T18:39:52.800619Z",
     "shell.execute_reply": "2021-04-04T18:39:52.799995Z"
    },
    "papermill": {
     "duration": 0.245122,
     "end_time": "2021-04-04T18:39:52.800767",
     "exception": false,
     "start_time": "2021-04-04T18:39:52.555645",
     "status": "completed"
    },
    "tags": []
   },
   "outputs": [
    {
     "data": {
      "text/plain": [
       "array([[  2,  26,   0],\n",
       "       [  2, 873,   5],\n",
       "       [  0,  82,   3]])"
      ]
     },
     "execution_count": 19,
     "metadata": {},
     "output_type": "execute_result"
    }
   ],
   "source": [
    "test_vector = vectorizer.transform(x_test['cleanText'])\n",
    "result = clf.predict(test_vector)\n",
    "cmNB = metrics.confusion_matrix(y_test, result)\n",
    "cmNB"
   ]
  },
  {
   "cell_type": "code",
   "execution_count": 20,
   "metadata": {
    "execution": {
     "iopub.execute_input": "2021-04-04T18:39:52.884954Z",
     "iopub.status.busy": "2021-04-04T18:39:52.859404Z",
     "iopub.status.idle": "2021-04-04T18:39:53.107982Z",
     "shell.execute_reply": "2021-04-04T18:39:53.107461Z"
    },
    "papermill": {
     "duration": 0.281991,
     "end_time": "2021-04-04T18:39:53.108125",
     "exception": false,
     "start_time": "2021-04-04T18:39:52.826134",
     "status": "completed"
    },
    "tags": []
   },
   "outputs": [
    {
     "data": {
      "image/png": "[encoded data removed]",
      "text/plain": [
       "<Figure size 432x288 with 2 Axes>"
      ]
     },
     "metadata": {
      "needs_background": "light"
     },
     "output_type": "display_data"
    }
   ],
   "source": [
    "fig = plt.figure()\n",
    "sns.heatmap(cmNB, annot = True, fmt='d')\n",
    "plt.title(\"Confusion matrix of Naive Bayes Classification for Reddit\")\n",
    "plt.xlabel('Predicted')\n",
    "plt.ylabel('Actual')\n",
    "plt.show()"
   ]
  },
  {
   "cell_type": "code",
   "execution_count": 21,
   "metadata": {
    "execution": {
     "iopub.execute_input": "2021-04-04T18:39:53.168223Z",
     "iopub.status.busy": "2021-04-04T18:39:53.167179Z",
     "iopub.status.idle": "2021-04-04T18:39:53.178498Z",
     "shell.execute_reply": "2021-04-04T18:39:53.179284Z"
    },
    "papermill": {
     "duration": 0.045068,
     "end_time": "2021-04-04T18:39:53.179555",
     "exception": false,
     "start_time": "2021-04-04T18:39:53.134487",
     "status": "completed"
    },
    "tags": []
   },
   "outputs": [
    {
     "name": "stdout",
     "output_type": "stream",
     "text": [
      "Accuracy: 88.42%\n",
      "F1-score: 0.376\n",
      "Precision Score: 0.588\n",
      "Recall Score: 0.366\n"
     ]
    }
   ],
   "source": [
    "# count vectorizing with unigram + bigram\n",
    "accuracy = accuracy_score(y_test, result)\n",
    "f1Score = f1_score(y_test, result, average='macro')\n",
    "precisionScore= precision_score(y_test, result, average='macro')\n",
    "recallScore = recall_score(y_test, result, average='macro')\n",
    "\n",
    "print(\"Accuracy: {}%\\nF1-score: {}\\nPrecision Score: {}\\nRecall Score: {}\".format(f'{accuracy*100:.2f}', f'{f1Score:.3f}', f'{precisionScore:.3f}', f'{recallScore:.3f}'))"
   ]
  },
  {
   "cell_type": "code",
   "execution_count": 22,
   "metadata": {
    "execution": {
     "iopub.execute_input": "2021-04-04T18:39:53.240799Z",
     "iopub.status.busy": "2021-04-04T18:39:53.240057Z",
     "iopub.status.idle": "2021-04-04T18:39:53.640733Z",
     "shell.execute_reply": "2021-04-04T18:39:53.640021Z"
    },
    "papermill": {
     "duration": 0.432749,
     "end_time": "2021-04-04T18:39:53.640890",
     "exception": false,
     "start_time": "2021-04-04T18:39:53.208141",
     "status": "completed"
    },
    "tags": []
   },
   "outputs": [],
   "source": [
    "df.to_csv('reddit_dataset.csv')"
   ]
  }
 ],
 "metadata": {
  "kernelspec": {
   "display_name": "Python 3",
   "language": "python",
   "name": "python3"
  },
  "language_info": {
   "codemirror_mode": {
    "name": "ipython",
    "version": 3
   },
   "file_extension": ".py",
   "mimetype": "text/x-python",
   "name": "python",
   "nbconvert_exporter": "python",
   "pygments_lexer": "ipython3",
   "version": "3.7.9"
  },
  "papermill": {
   "default_parameters": {},
   "duration": 194.817115,
   "end_time": "2021-04-04T18:39:54.579856",
   "environment_variables": {},
   "exception": null,
   "input_path": "__notebook__.ipynb",
   "output_path": "__notebook__.ipynb",
   "parameters": {},
   "start_time": "2021-04-04T18:36:39.762741",
   "version": "2.2.2"
  }
 },
 "nbformat": 4,
 "nbformat_minor": 4
}
